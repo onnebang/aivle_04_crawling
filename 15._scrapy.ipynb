{
 "cells": [
  {
   "cell_type": "markdown",
   "id": "f5cf8e44-6dc2-429f-b94a-fb29aef97647",
   "metadata": {},
   "source": [
    "### scrapy\n",
    "    비동기 방식으로 데이터를 수집 > 데이터 수집 속도가 빠름"
   ]
  },
  {
   "cell_type": "code",
   "execution_count": null,
   "id": "5f1a2ad9-854b-4f6b-a27d-d226c4e21a6a",
   "metadata": {},
   "outputs": [],
   "source": [
    "# items.py : 수집할 데이터의 구조 정의\n",
    "# middlewares.py : 데이터를 수집할때 headers 정보와 같은 내용을 설정\n",
    "# pipelines.py : 데이터를 수집한 후에 코드 실행 정의\n",
    "# settings.py : 크롤링 설정 : 크롤링 시간 텀, robots.txt 규칙\n",
    "# spiders : 디렉토리 : 크롤링 절차 정의"
   ]
  },
  {
   "cell_type": "code",
   "execution_count": 1,
   "id": "cba877af-1aad-4496-bde2-bbd664d6471f",
   "metadata": {},
   "outputs": [],
   "source": [
    "import scrapy, requests\n",
    "from scrapy.http import TextResponse"
   ]
  },
  {
   "cell_type": "code",
   "execution_count": 2,
   "id": "98ac4695-5cdf-4240-99f7-4070ffefdf8c",
   "metadata": {},
   "outputs": [],
   "source": [
    "#  g마켓 베스트 200 상품 데이터 수집"
   ]
  },
  {
   "cell_type": "code",
   "execution_count": 3,
   "id": "1dec7ad0-171c-46a2-886e-648024d8fa66",
   "metadata": {},
   "outputs": [
    {
     "name": "stdout",
     "output_type": "stream",
     "text": [
      "New Scrapy project 'gmarket', using template directory 'c:\\users\\user\\anaconda3\\lib\\site-packages\\scrapy\\templates\\project', created in:\n",
      "    C:\\Users\\User\\Desktop\\code\\크롤링\\day1\\gmarket\n",
      "\n",
      "You can start your first spider with:\n",
      "    cd gmarket\n",
      "    scrapy genspider example example.com\n"
     ]
    }
   ],
   "source": [
    "!scrapy startproject gmarket"
   ]
  },
  {
   "cell_type": "code",
   "execution_count": null,
   "id": "3cde59f4-822f-4e8a-8c97-c9a97cb52b2c",
   "metadata": {},
   "outputs": [],
   "source": [
    "# 2. xpath 찾기 : 링크, 상세 페이지의 데이터"
   ]
  },
  {
   "cell_type": "code",
   "execution_count": 6,
   "id": "80546377-6ae8-47bf-9665-692a21c1e561",
   "metadata": {},
   "outputs": [],
   "source": [
    "# 링크데이터 수집\n",
    "request = requests.get(\"http://corners.gmarket.co.kr/Bestsellers\")\n",
    "response = TextResponse(request.url, body = request.text, encoding =\"utf-8\")"
   ]
  },
  {
   "cell_type": "code",
   "execution_count": 11,
   "id": "93a19b90-fdc6-47bf-bcb7-28bd79c6d5b3",
   "metadata": {},
   "outputs": [
    {
     "data": {
      "text/plain": [
       "['http://item.gmarket.co.kr/Item?goodscode=2519604129&ver=637953127243935855',\n",
       " 'http://item.gmarket.co.kr/Item?goodscode=2520466046&ver=637953127243935855']"
      ]
     },
     "execution_count": 11,
     "metadata": {},
     "output_type": "execute_result"
    }
   ],
   "source": [
    "links = response.xpath('//*[@id=\"gBestWrap\"]/div/div[3]/div/ul/li/div[1]/a/@href').extract()\n",
    "links[:2]"
   ]
  },
  {
   "cell_type": "code",
   "execution_count": 12,
   "id": "834cb5a2-dd7d-42c8-8080-bb6d54e4e78e",
   "metadata": {},
   "outputs": [],
   "source": [
    "# 상세페이지 데이터 수집"
   ]
  },
  {
   "cell_type": "code",
   "execution_count": 13,
   "id": "f362191d-fbdb-416d-825d-d7a272830875",
   "metadata": {},
   "outputs": [],
   "source": [
    "link = links[0]\n",
    "request = requests.get(link)\n",
    "response = TextResponse(request.url, body = request.text, encoding =\"utf-8\")"
   ]
  },
  {
   "cell_type": "code",
   "execution_count": 15,
   "id": "a557ca40-e061-4def-b95a-5d32a1746ed3",
   "metadata": {},
   "outputs": [
    {
     "data": {
      "text/plain": [
       "('브라운 면도기 세정액 CCR5+1 ', '25,030')"
      ]
     },
     "execution_count": 15,
     "metadata": {},
     "output_type": "execute_result"
    }
   ],
   "source": [
    "title = response.xpath('//*[@id=\"itemcase_basic\"]/div/h1/text()')[0].extract()\n",
    "price = response.xpath('//*[@id=\"itemcase_basic\"]/div/p/span/strong/text()')[0].extract()\n",
    "title, price"
   ]
  },
  {
   "cell_type": "code",
   "execution_count": 16,
   "id": "86ff7ed6-0c83-48e8-b85d-181a4ea118f9",
   "metadata": {},
   "outputs": [],
   "source": [
    "#3. items.py : 코드 작성 : model(데이터의 구조 : 수집할 데이터의 컬럼을 정의)"
   ]
  },
  {
   "cell_type": "code",
   "execution_count": 17,
   "id": "b6b1e67e-0819-428b-96e6-4df82c6fc68d",
   "metadata": {},
   "outputs": [
    {
     "name": "stdout",
     "output_type": "stream",
     "text": [
      "Overwriting gmarket/gmarket/items.py\n"
     ]
    }
   ],
   "source": [
    "%%writefile gmarket/gmarket/items.py\n",
    "import scrapy\n",
    "\n",
    "class GmarketItem(scrapy.Item):\n",
    "    title = scrapy.Field()\n",
    "    price = scrapy.Field()\n",
    "    link = scrapy.Field()"
   ]
  },
  {
   "cell_type": "code",
   "execution_count": null,
   "id": "af19483e-6c51-4cad-a1df-217198afd287",
   "metadata": {},
   "outputs": [],
   "source": [
    "# 4. spider.py 코드 작성"
   ]
  },
  {
   "cell_type": "code",
   "execution_count": 18,
   "id": "acda4249-6e1f-4d0a-aae3-9861fe4dc531",
   "metadata": {},
   "outputs": [
    {
     "name": "stdout",
     "output_type": "stream",
     "text": [
      "Writing gmarket/gmarket/spiders/spider.py\n"
     ]
    }
   ],
   "source": [
    "%%writefile gmarket/gmarket/spiders/spider.py\n",
    "import scrapy\n",
    "from gmarket.items import GmarketItem\n",
    "\n",
    "class GMSpider(scrapy.Spider):\n",
    "    name = \"GMB\"\n",
    "    allow_domain = [\"gmarket.co.kr\"]\n",
    "    start_urls = [\"http://corners.gmarket.co.kr/Bestsellers\"]\n",
    "    \n",
    "    def parse(self, response):\n",
    "        links = response.xpath('//*[@id=\"gBestWrap\"]/div/div[3]/div/ul/li/a/@href').extract()\n",
    "        for link in links[:20]:\n",
    "            yield scrapy.Request(link, callback=self.parse_content)\n",
    "    \n",
    "    def parse_content(self, response):\n",
    "        item = GmarketItem()\n",
    "        item[\"title\"] = response.xpath('//*[@id=\"itemcase_basic\"]/div[1]/h1/text()')[0].extract()\n",
    "        item[\"price\"] = response.xpath('//*[@id=\"itemcase_basic\"]/div[1]/p/span/strong/text()')[0].extract()\n",
    "        item[\"link\"] = response.url\n",
    "        yield item"
   ]
  },
  {
   "cell_type": "code",
   "execution_count": 20,
   "id": "561f83e8-d9df-489e-85ce-362d2653c9f5",
   "metadata": {},
   "outputs": [],
   "source": [
    "# 5.스크레피 프로젝트 실행\n",
    "# 터미널에서 gmarket 디렉토리 -> \n",
    "# scrapy crawl GMB -o items.csv 저장"
   ]
  },
  {
   "cell_type": "code",
   "execution_count": 21,
   "id": "a4dc5840-cb83-430c-a398-2a19d07c408e",
   "metadata": {},
   "outputs": [
    {
     "data": {
      "text/plain": [
       "'C:\\\\Users\\\\User\\\\Desktop\\\\code\\\\크롤링\\\\day1'"
      ]
     },
     "execution_count": 21,
     "metadata": {},
     "output_type": "execute_result"
    }
   ],
   "source": [
    "%pwd"
   ]
  },
  {
   "cell_type": "code",
   "execution_count": 22,
   "id": "10325c69-1739-4094-8938-e83febcaf710",
   "metadata": {},
   "outputs": [
    {
     "data": {
      "text/html": [
       "<div>\n",
       "<style scoped>\n",
       "    .dataframe tbody tr th:only-of-type {\n",
       "        vertical-align: middle;\n",
       "    }\n",
       "\n",
       "    .dataframe tbody tr th {\n",
       "        vertical-align: top;\n",
       "    }\n",
       "\n",
       "    .dataframe thead th {\n",
       "        text-align: right;\n",
       "    }\n",
       "</style>\n",
       "<table border=\"1\" class=\"dataframe\">\n",
       "  <thead>\n",
       "    <tr style=\"text-align: right;\">\n",
       "      <th></th>\n",
       "      <th>link</th>\n",
       "      <th>price</th>\n",
       "      <th>title</th>\n",
       "    </tr>\n",
       "  </thead>\n",
       "  <tbody>\n",
       "    <tr>\n",
       "      <th>18</th>\n",
       "      <td>http://item.gmarket.co.kr/Item?goodscode=22464...</td>\n",
       "      <td>19,360</td>\n",
       "      <td>서울우유 클릭유 커피 200ml x 24입 (1박스)</td>\n",
       "    </tr>\n",
       "    <tr>\n",
       "      <th>19</th>\n",
       "      <td>http://item.gmarket.co.kr/Item?goodscode=20965...</td>\n",
       "      <td>109,000</td>\n",
       "      <td>BLDC 입체회전 써큘레이터 SIF-DPNW90 ---시즌오프 특가---</td>\n",
       "    </tr>\n",
       "  </tbody>\n",
       "</table>\n",
       "</div>"
      ],
      "text/plain": [
       "                                                 link    price  \\\n",
       "18  http://item.gmarket.co.kr/Item?goodscode=22464...   19,360   \n",
       "19  http://item.gmarket.co.kr/Item?goodscode=20965...  109,000   \n",
       "\n",
       "                                        title  \n",
       "18             서울우유 클릭유 커피 200ml x 24입 (1박스)   \n",
       "19  BLDC 입체회전 써큘레이터 SIF-DPNW90 ---시즌오프 특가---   "
      ]
     },
     "execution_count": 22,
     "metadata": {},
     "output_type": "execute_result"
    }
   ],
   "source": [
    "pd.read_csv(\"gmarket/items.csv\").tail(2)"
   ]
  }
 ],
 "metadata": {
  "kernelspec": {
   "display_name": "Python 3",
   "language": "python",
   "name": "python3"
  },
  "language_info": {
   "codemirror_mode": {
    "name": "ipython",
    "version": 3
   },
   "file_extension": ".py",
   "mimetype": "text/x-python",
   "name": "python",
   "nbconvert_exporter": "python",
   "pygments_lexer": "ipython3",
   "version": "3.8.8"
  }
 },
 "nbformat": 4,
 "nbformat_minor": 5
}
