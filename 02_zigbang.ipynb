{
 "cells": [
  {
   "cell_type": "markdown",
   "id": "f092af0a-9dfa-49e8-9ee6-d32e6ae1fe7f",
   "metadata": {},
   "source": [
    "\n",
    "### 직방의 원룸 매물정보 수집\n",
    "\n",
    "절차\n",
    "    - 동이름으로 위도, 경도 수집\n",
    "    - 위도,경도값 geohash 변환\n",
    "    - geohash 에서 매물 아이디 수집\n",
    "    - 매물 아이디에서 매물 정보 수집"
   ]
  },
  {
   "cell_type": "code",
   "execution_count": 8,
   "id": "da3cb4d0-eefc-4fad-9635-c898c09399cb",
   "metadata": {},
   "outputs": [
    {
     "name": "stdout",
     "output_type": "stream",
     "text": [
      "Collecting geohash2\n",
      "  Downloading geohash2-1.1.tar.gz (15 kB)\n",
      "Requirement already satisfied: docutils>=0.3 in c:\\users\\user\\anaconda3\\lib\\site-packages (from geohash2) (0.17)\n",
      "Building wheels for collected packages: geohash2\n",
      "  Building wheel for geohash2 (setup.py): started\n",
      "  Building wheel for geohash2 (setup.py): finished with status 'done'\n",
      "  Created wheel for geohash2: filename=geohash2-1.1-py3-none-any.whl size=15544 sha256=1168a6d96da916258604bfff350eb8867a4e804f0ad5d7ec57b6df03f213952d\n",
      "  Stored in directory: c:\\users\\user\\appdata\\local\\pip\\cache\\wheels\\2d\\0c\\66\\dcd768c9e7c26fc81ec59bfe24af9d780fc9dbdf7f90b0cf00\n",
      "Successfully built geohash2\n",
      "Installing collected packages: geohash2\n",
      "Successfully installed geohash2-1.1\n"
     ]
    }
   ],
   "source": [
    "!pip install geohash2"
   ]
  },
  {
   "cell_type": "code",
   "execution_count": 37,
   "id": "76003664-dd4d-41ce-88ab-3eaafe14fa76",
   "metadata": {},
   "outputs": [],
   "source": [
    "import requests\n",
    "import pandas as pd\n",
    "import geohash2"
   ]
  },
  {
   "cell_type": "code",
   "execution_count": 3,
   "id": "d4513f5d-9ac5-4df5-ba43-5ce9d3c73e26",
   "metadata": {},
   "outputs": [],
   "source": [
    "#1. 동이름으로 위도, 경도 수집"
   ]
  },
  {
   "cell_type": "code",
   "execution_count": 18,
   "id": "bf82da66-1567-483e-bb40-ad8ade8cb215",
   "metadata": {},
   "outputs": [
    {
     "data": {
      "text/plain": [
       "(37.495365142822266, 127.03306579589844)"
      ]
     },
     "execution_count": 18,
     "metadata": {},
     "output_type": "execute_result"
    }
   ],
   "source": [
    "addr = \"강남구 역삼동\"\n",
    "URL = f\"https://apis.zigbang.com/v2/search?leaseYn=N&q={addr}&serviceType=원룸\"\n",
    "response = requests.get(URL)\n",
    "data = response.json()[\"items\"][0]\n",
    "lat, lng = data[\"lat\"], data[\"lng\"]\n",
    "lat, lng"
   ]
  },
  {
   "cell_type": "code",
   "execution_count": 4,
   "id": "ce5956e4-c1b3-4a9c-8e38-b1b4ad12f0cc",
   "metadata": {},
   "outputs": [],
   "source": [
    "#2. 위도,경도값 geohash 변환"
   ]
  },
  {
   "cell_type": "code",
   "execution_count": 19,
   "id": "e8f80011-b171-4c2e-8fb0-4bec06cf6320",
   "metadata": {},
   "outputs": [
    {
     "data": {
      "text/plain": [
       "'wydm6'"
      ]
     },
     "execution_count": 19,
     "metadata": {},
     "output_type": "execute_result"
    }
   ],
   "source": [
    "geohash = geohash2.encode(lat, lng, precision = 5)\n",
    "geohash"
   ]
  },
  {
   "cell_type": "code",
   "execution_count": 5,
   "id": "5ecd1e4d-b0ab-4560-a39c-b59551d7d564",
   "metadata": {},
   "outputs": [],
   "source": [
    "#3. geohash 에서 매물 아이디 수집"
   ]
  },
  {
   "cell_type": "code",
   "execution_count": 28,
   "id": "479e2b9a-8e6e-4c39-badb-049d5759095b",
   "metadata": {},
   "outputs": [
    {
     "data": {
      "text/plain": [
       "[32819635, 32838798, 32872608, 32838700, 32767020]"
      ]
     },
     "execution_count": 28,
     "metadata": {},
     "output_type": "execute_result"
    }
   ],
   "source": [
    "url = f\"https://apis.zigbang.com/v2/items?deposit_gteq=0&domain=zigbang&\\\n",
    "geohash={geohash}&needHasNoFiltered=true&rent_gteq=0&sales_type_in=전세|월세&service_type_eq=원룸\"\n",
    "response = requests.get(url)\n",
    "data = response.json()[\"items\"]\n",
    "ids = [data[\"item_id\"] for data in data]\n",
    "ids[:5]"
   ]
  },
  {
   "cell_type": "code",
   "execution_count": 6,
   "id": "f1ee1832-6b9b-438d-8e11-95b4fe086438",
   "metadata": {},
   "outputs": [],
   "source": [
    "#4. 매물 아이디에서 매물 정보 수집"
   ]
  },
  {
   "cell_type": "code",
   "execution_count": 45,
   "id": "aa7ddf71-2c94-4698-a7fb-86b2f00d37bd",
   "metadata": {},
   "outputs": [
    {
     "data": {
      "text/html": [
       "<div>\n",
       "<style scoped>\n",
       "    .dataframe tbody tr th:only-of-type {\n",
       "        vertical-align: middle;\n",
       "    }\n",
       "\n",
       "    .dataframe tbody tr th {\n",
       "        vertical-align: top;\n",
       "    }\n",
       "\n",
       "    .dataframe thead th {\n",
       "        text-align: right;\n",
       "    }\n",
       "</style>\n",
       "<table border=\"1\" class=\"dataframe\">\n",
       "  <thead>\n",
       "    <tr style=\"text-align: right;\">\n",
       "      <th></th>\n",
       "      <th>item_id</th>\n",
       "      <th>sales_type</th>\n",
       "      <th>deposit</th>\n",
       "      <th>rent</th>\n",
       "      <th>size_m2</th>\n",
       "      <th>address1</th>\n",
       "      <th>manage_cost</th>\n",
       "    </tr>\n",
       "  </thead>\n",
       "  <tbody>\n",
       "    <tr>\n",
       "      <th>0</th>\n",
       "      <td>32819635</td>\n",
       "      <td>전세</td>\n",
       "      <td>16500</td>\n",
       "      <td>0</td>\n",
       "      <td>39.89</td>\n",
       "      <td>서울시 서초구 서초동</td>\n",
       "      <td>7.5</td>\n",
       "    </tr>\n",
       "    <tr>\n",
       "      <th>1</th>\n",
       "      <td>32838798</td>\n",
       "      <td>월세</td>\n",
       "      <td>1000</td>\n",
       "      <td>68</td>\n",
       "      <td>37.56</td>\n",
       "      <td>서울시 서초구 서초동</td>\n",
       "      <td>7.5</td>\n",
       "    </tr>\n",
       "    <tr>\n",
       "      <th>2</th>\n",
       "      <td>32872608</td>\n",
       "      <td>월세</td>\n",
       "      <td>1000</td>\n",
       "      <td>70</td>\n",
       "      <td>37.56</td>\n",
       "      <td>서울시 서초구 서초동</td>\n",
       "      <td>7.5</td>\n",
       "    </tr>\n",
       "    <tr>\n",
       "      <th>3</th>\n",
       "      <td>32838700</td>\n",
       "      <td>전세</td>\n",
       "      <td>50400</td>\n",
       "      <td>0</td>\n",
       "      <td>66.12</td>\n",
       "      <td>서울시 서초구 서초동</td>\n",
       "      <td>9</td>\n",
       "    </tr>\n",
       "    <tr>\n",
       "      <th>4</th>\n",
       "      <td>32767020</td>\n",
       "      <td>월세</td>\n",
       "      <td>20000</td>\n",
       "      <td>90</td>\n",
       "      <td>60.12</td>\n",
       "      <td>서울시 서초구 서초동</td>\n",
       "      <td>5</td>\n",
       "    </tr>\n",
       "    <tr>\n",
       "      <th>5</th>\n",
       "      <td>32830406</td>\n",
       "      <td>월세</td>\n",
       "      <td>1000</td>\n",
       "      <td>65</td>\n",
       "      <td>59.50</td>\n",
       "      <td>서울시 서초구 서초동</td>\n",
       "      <td>15</td>\n",
       "    </tr>\n",
       "    <tr>\n",
       "      <th>6</th>\n",
       "      <td>32862728</td>\n",
       "      <td>월세</td>\n",
       "      <td>1000</td>\n",
       "      <td>50</td>\n",
       "      <td>49.59</td>\n",
       "      <td>서울시 서초구 서초동</td>\n",
       "      <td>14</td>\n",
       "    </tr>\n",
       "    <tr>\n",
       "      <th>7</th>\n",
       "      <td>32866406</td>\n",
       "      <td>전세</td>\n",
       "      <td>52000</td>\n",
       "      <td>0</td>\n",
       "      <td>37.63</td>\n",
       "      <td>서울시 서초구 서초동</td>\n",
       "      <td>10</td>\n",
       "    </tr>\n",
       "    <tr>\n",
       "      <th>8</th>\n",
       "      <td>32432677</td>\n",
       "      <td>전세</td>\n",
       "      <td>12000</td>\n",
       "      <td>0</td>\n",
       "      <td>47.93</td>\n",
       "      <td>서울시 서초구 서초동</td>\n",
       "      <td>14</td>\n",
       "    </tr>\n",
       "    <tr>\n",
       "      <th>9</th>\n",
       "      <td>32578425</td>\n",
       "      <td>전세</td>\n",
       "      <td>12900</td>\n",
       "      <td>0</td>\n",
       "      <td>39.67</td>\n",
       "      <td>서울시 서초구 서초동</td>\n",
       "      <td>12</td>\n",
       "    </tr>\n",
       "  </tbody>\n",
       "</table>\n",
       "</div>"
      ],
      "text/plain": [
       "    item_id sales_type  deposit  rent  size_m2     address1 manage_cost\n",
       "0  32819635         전세    16500     0    39.89  서울시 서초구 서초동         7.5\n",
       "1  32838798         월세     1000    68    37.56  서울시 서초구 서초동         7.5\n",
       "2  32872608         월세     1000    70    37.56  서울시 서초구 서초동         7.5\n",
       "3  32838700         전세    50400     0    66.12  서울시 서초구 서초동           9\n",
       "4  32767020         월세    20000    90    60.12  서울시 서초구 서초동           5\n",
       "5  32830406         월세     1000    65    59.50  서울시 서초구 서초동          15\n",
       "6  32862728         월세     1000    50    49.59  서울시 서초구 서초동          14\n",
       "7  32866406         전세    52000     0    37.63  서울시 서초구 서초동          10\n",
       "8  32432677         전세    12000     0    47.93  서울시 서초구 서초동          14\n",
       "9  32578425         전세    12900     0    39.67  서울시 서초구 서초동          12"
      ]
     },
     "execution_count": 45,
     "metadata": {},
     "output_type": "execute_result"
    }
   ],
   "source": [
    "url = \"https://apis.zigbang.com/v2/items/list\"\n",
    "# post 방식이라 params 추가 (get방식이면 상관없음)\n",
    "params = {\n",
    "    \"domain\": \"zigbang\",\n",
    "    \"withCoalition\": \"true\",\n",
    "    \"item_ids\": ids[:900]\n",
    "}\n",
    "response = requests.post(url, params)\n",
    "items = response.json()[\"items\"]\n",
    "items[:2]\n",
    "df = pd.DataFrame(items)\n",
    "df[[\"item_id\",\"sales_type\",\"deposit\",'rent','size_m2','address1','manage_cost']].head(10)"
   ]
  },
  {
   "cell_type": "code",
   "execution_count": 58,
   "id": "4818cc27-fec8-4899-b29b-9c637d15839b",
   "metadata": {},
   "outputs": [],
   "source": [
    "def oneroom(addr):\n",
    "    URL = f\"https://apis.zigbang.com/v2/search?leaseYn=N&q={addr}&serviceType=원룸\"\n",
    "    response = requests.get(URL)\n",
    "    data = response.json()[\"items\"][0]\n",
    "    lat, lng = data[\"lat\"], data[\"lng\"]\n",
    "    \n",
    "    geohash = geohash2.encode(lat, lng, precision = 5)\n",
    "    \n",
    "    url = f\"https://apis.zigbang.com/v2/items?deposit_gteq=0&domain=zigbang&\\\n",
    "geohash={geohash}&needHasNoFiltered=true&rent_gteq=0&sales_type_in=전세|월세&service_type_eq=원룸\"\n",
    "    response = requests.get(url)\n",
    "    data2 = response.json()[\"items\"]\n",
    "    ids = [data2[\"item_id\"] for data2 in data2]\n",
    "    \n",
    "    url = \"https://apis.zigbang.com/v2/items/list\"\n",
    "    params = {\n",
    "        \"domain\": \"zigbang\",\n",
    "        \"withCoalition\": \"true\",\n",
    "        \"item_ids\": ids[:900]\n",
    "    }\n",
    "    response = requests.post(url, params)\n",
    "    items = response.json()[\"items\"]\n",
    "    df = pd.DataFrame(items)\n",
    "    df = df[[\"item_id\",\"sales_type\",\"deposit\",'rent','size_m2','address1','manage_cost']].head(10)\n",
    "    return df"
   ]
  },
  {
   "cell_type": "code",
   "execution_count": 59,
   "id": "a4aae810-2c8b-4544-b6ed-90610ba34bf5",
   "metadata": {},
   "outputs": [
    {
     "data": {
      "text/html": [
       "<div>\n",
       "<style scoped>\n",
       "    .dataframe tbody tr th:only-of-type {\n",
       "        vertical-align: middle;\n",
       "    }\n",
       "\n",
       "    .dataframe tbody tr th {\n",
       "        vertical-align: top;\n",
       "    }\n",
       "\n",
       "    .dataframe thead th {\n",
       "        text-align: right;\n",
       "    }\n",
       "</style>\n",
       "<table border=\"1\" class=\"dataframe\">\n",
       "  <thead>\n",
       "    <tr style=\"text-align: right;\">\n",
       "      <th></th>\n",
       "      <th>item_id</th>\n",
       "      <th>sales_type</th>\n",
       "      <th>deposit</th>\n",
       "      <th>rent</th>\n",
       "      <th>size_m2</th>\n",
       "      <th>address1</th>\n",
       "      <th>manage_cost</th>\n",
       "    </tr>\n",
       "  </thead>\n",
       "  <tbody>\n",
       "    <tr>\n",
       "      <th>8</th>\n",
       "      <td>32855914</td>\n",
       "      <td>월세</td>\n",
       "      <td>2000</td>\n",
       "      <td>40</td>\n",
       "      <td>19.83</td>\n",
       "      <td>서울시 영등포구 당산동</td>\n",
       "      <td>7</td>\n",
       "    </tr>\n",
       "    <tr>\n",
       "      <th>9</th>\n",
       "      <td>32788937</td>\n",
       "      <td>월세</td>\n",
       "      <td>500</td>\n",
       "      <td>45</td>\n",
       "      <td>23.14</td>\n",
       "      <td>서울시 영등포구 당산동4가</td>\n",
       "      <td>0</td>\n",
       "    </tr>\n",
       "  </tbody>\n",
       "</table>\n",
       "</div>"
      ],
      "text/plain": [
       "    item_id sales_type  deposit  rent  size_m2        address1 manage_cost\n",
       "8  32855914         월세     2000    40    19.83    서울시 영등포구 당산동           7\n",
       "9  32788937         월세      500    45    23.14  서울시 영등포구 당산동4가           0"
      ]
     },
     "execution_count": 59,
     "metadata": {},
     "output_type": "execute_result"
    }
   ],
   "source": [
    "addr = \"마포구 합정동\"\n",
    "df = oneroom(addr)\n",
    "df.tail(2)"
   ]
  },
  {
   "cell_type": "code",
   "execution_count": null,
   "id": "95aea345-fa13-43c3-b63d-adc77598d64f",
   "metadata": {},
   "outputs": [],
   "source": []
  }
 ],
 "metadata": {
  "kernelspec": {
   "display_name": "Python 3",
   "language": "python",
   "name": "python3"
  },
  "language_info": {
   "codemirror_mode": {
    "name": "ipython",
    "version": 3
   },
   "file_extension": ".py",
   "mimetype": "text/x-python",
   "name": "python",
   "nbconvert_exporter": "python",
   "pygments_lexer": "ipython3",
   "version": "3.8.8"
  }
 },
 "nbformat": 4,
 "nbformat_minor": 5
}
