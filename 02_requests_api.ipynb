{
 "cells": [
  {
   "cell_type": "markdown",
   "id": "2c97b9d3",
   "metadata": {},
   "source": [
    "### API\n",
    "- application programing interface\n",
    "- api를 사용해서 데이터를 수집하는것은 서비스에 데이터를 제공하는 공식적인 방법으로 데이터 수집\n",
    "- naver api : papago api : 번역 서비스"
   ]
  },
  {
   "cell_type": "code",
   "execution_count": 6,
   "id": "7e490dc7",
   "metadata": {},
   "outputs": [],
   "source": [
    "import pandas as pd\n",
    "import requests, json"
   ]
  },
  {
   "cell_type": "code",
   "execution_count": 1,
   "id": "483eac1a",
   "metadata": {},
   "outputs": [],
   "source": [
    "# 1. APP 등록 > app_key(request_token)\n",
    "# https://developers.naver.com"
   ]
  },
  {
   "cell_type": "code",
   "execution_count": 26,
   "id": "384129b1",
   "metadata": {},
   "outputs": [],
   "source": [
    "CLIENT_ID, CLIENT_SECRET = \"-\", \"-\""
   ]
  },
  {
   "cell_type": "code",
   "execution_count": 27,
   "id": "30952f2c",
   "metadata": {},
   "outputs": [],
   "source": [
    "# 2. Naver API Document 확인 > URL(params, headers)"
   ]
  },
  {
   "cell_type": "code",
   "execution_count": 28,
   "id": "286a85fc",
   "metadata": {},
   "outputs": [],
   "source": [
    "txt = \"파이썬은 재미있습니다.\"\n",
    "url = \"https://openapi.naver.com/v1/papago/n2mt\"\n",
    "params = {\"source\": \"ko\", \"target\": \"en\", \"text\": txt}\n",
    "headers = {\n",
    "    \"Content-Type\": \"application/json\",\n",
    "    \"X-Naver-Client-Id\": CLIENT_ID,\n",
    "    \"X-Naver-Client-Secret\": CLIENT_SECRET,\n",
    "}"
   ]
  },
  {
   "cell_type": "code",
   "execution_count": 29,
   "id": "ff993371",
   "metadata": {},
   "outputs": [],
   "source": [
    "# 3. request(url, app_key) > response(json) : JSON(str)"
   ]
  },
  {
   "cell_type": "code",
   "execution_count": 30,
   "id": "9d99c903",
   "metadata": {},
   "outputs": [],
   "source": [
    "# json.dumps()\n",
    "# 인터넷 트래픽에서는 영문, 숫자, 특수문자만 사용가능\n",
    "# 한글과 같은 문자를 인코딩(영문,숫자,특수문자)"
   ]
  },
  {
   "cell_type": "code",
   "execution_count": 31,
   "id": "bebdcc0a",
   "metadata": {},
   "outputs": [
    {
     "data": {
      "text/plain": [
       "({'source': 'ko', 'target': 'en', 'text': '파이썬은 재미있습니다.'},\n",
       " '{\"source\": \"ko\", \"target\": \"en\", \"text\": \"\\\\ud30c\\\\uc774\\\\uc36c\\\\uc740 \\\\uc7ac\\\\ubbf8\\\\uc788\\\\uc2b5\\\\ub2c8\\\\ub2e4.\"}')"
      ]
     },
     "execution_count": 31,
     "metadata": {},
     "output_type": "execute_result"
    }
   ],
   "source": [
    "params, json.dumps(params)"
   ]
  },
  {
   "cell_type": "code",
   "execution_count": 32,
   "id": "85e11a7f",
   "metadata": {},
   "outputs": [
    {
     "data": {
      "text/plain": [
       "<Response [200]>"
      ]
     },
     "execution_count": 32,
     "metadata": {},
     "output_type": "execute_result"
    }
   ],
   "source": [
    "response = requests.post(url, json.dumps(params), headers=headers)\n",
    "response"
   ]
  },
  {
   "cell_type": "code",
   "execution_count": 33,
   "id": "9c36cc37",
   "metadata": {},
   "outputs": [
    {
     "data": {
      "text/plain": [
       "'{\"message\":{\"result\":{\"srcLangType\":\"ko\",\"tarLangType\":\"en\",\"translatedText\":\"Python is fun.\",\"engineType\":\"N2MT\",\"pivot\":null,\"dict\":null,\"tarDict\":null},\"@type\":\"response\",\"@service\":\"naverservice.nmt.proxy\",\"@version\":\"1.0.0\"}}'"
      ]
     },
     "execution_count": 33,
     "metadata": {},
     "output_type": "execute_result"
    }
   ],
   "source": [
    "response.text"
   ]
  },
  {
   "cell_type": "code",
   "execution_count": 34,
   "id": "d29a05bf",
   "metadata": {},
   "outputs": [],
   "source": [
    "# 4. JSON(str) > list, dict > str"
   ]
  },
  {
   "cell_type": "code",
   "execution_count": 35,
   "id": "ff22752e",
   "metadata": {},
   "outputs": [
    {
     "data": {
      "text/plain": [
       "'Python is fun.'"
      ]
     },
     "execution_count": 35,
     "metadata": {},
     "output_type": "execute_result"
    }
   ],
   "source": [
    "txt_en = response.json()[\"message\"][\"result\"][\"translatedText\"]\n",
    "txt_en"
   ]
  },
  {
   "cell_type": "code",
   "execution_count": 36,
   "id": "b7ffc332",
   "metadata": {},
   "outputs": [],
   "source": [
    "# 5. 함수로 작성"
   ]
  },
  {
   "cell_type": "code",
   "execution_count": 37,
   "id": "0f7197c5",
   "metadata": {},
   "outputs": [],
   "source": [
    "def translate(txt):\n",
    "    CLIENT_ID, CLIENT_SECRET = \"-\", \"-\"\n",
    "    url = \"https://openapi.naver.com/v1/papago/n2mt\"\n",
    "    params = {\"source\": \"ko\", \"target\": \"en\", \"text\": txt}\n",
    "    headers = {\n",
    "        \"Content-Type\": \"application/json\",\n",
    "        \"X-Naver-Client-Id\": CLIENT_ID,\n",
    "        \"X-Naver-Client-Secret\": CLIENT_SECRET,\n",
    "    }\n",
    "    response = requests.post(url, json.dumps(params), headers=headers)\n",
    "    return response.json()[\"message\"][\"result\"][\"translatedText\"]"
   ]
  },
  {
   "cell_type": "code",
   "execution_count": 38,
   "id": "15b87ac9",
   "metadata": {},
   "outputs": [
    {
     "data": {
      "text/plain": [
       "'Web crawling is fun.'"
      ]
     },
     "execution_count": 38,
     "metadata": {},
     "output_type": "execute_result"
    }
   ],
   "source": [
    "txt = \"웹크롤링은 재미있습니다.\"\n",
    "txt_en = translate(txt)\n",
    "txt_en"
   ]
  },
  {
   "cell_type": "code",
   "execution_count": 39,
   "id": "29ee915b",
   "metadata": {},
   "outputs": [],
   "source": [
    "# 6. 한글 excel 파일을 영문 excel 파일로 변경"
   ]
  },
  {
   "cell_type": "code",
   "execution_count": 40,
   "id": "1c67aa12",
   "metadata": {},
   "outputs": [
    {
     "name": "stdout",
     "output_type": "stream",
     "text": [
      " C 드라이브의 볼륨: 로컬 디스크\n",
      " 볼륨 일련 번호: 8A64-4954\n",
      "\n",
      " C:\\Users\\User\\Desktop\\python_crawling\\day1\\code 디렉터리\n",
      "\n",
      "2022-08-03  오후 04:47    <DIR>          .\n",
      "2022-08-03  오후 04:47    <DIR>          ..\n",
      "2022-08-03  오후 03:41    <DIR>          .ipynb_checkpoints\n",
      "2022-08-03  오후 03:40            32,787 01_requests_json.ipynb\n",
      "2022-08-03  오후 04:44             8,109 02_requests_api.ipynb\n",
      "2022-08-03  오후 04:47            10,060 covid.xlsx\n",
      "               3개 파일              50,956 바이트\n",
      "               3개 디렉터리  378,883,235,840 바이트 남음\n"
     ]
    }
   ],
   "source": [
    "%ls"
   ]
  },
  {
   "cell_type": "code",
   "execution_count": 42,
   "id": "b7a86011",
   "metadata": {},
   "outputs": [
    {
     "data": {
      "text/html": [
       "<div>\n",
       "<style scoped>\n",
       "    .dataframe tbody tr th:only-of-type {\n",
       "        vertical-align: middle;\n",
       "    }\n",
       "\n",
       "    .dataframe tbody tr th {\n",
       "        vertical-align: top;\n",
       "    }\n",
       "\n",
       "    .dataframe thead th {\n",
       "        text-align: right;\n",
       "    }\n",
       "</style>\n",
       "<table border=\"1\" class=\"dataframe\">\n",
       "  <thead>\n",
       "    <tr style=\"text-align: right;\">\n",
       "      <th></th>\n",
       "      <th>category</th>\n",
       "      <th>title</th>\n",
       "    </tr>\n",
       "  </thead>\n",
       "  <tbody>\n",
       "    <tr>\n",
       "      <th>4</th>\n",
       "      <td>104</td>\n",
       "      <td>\"코로나 확진자 '0명'인 날은 절대 오지 않는다\" 美전문가</td>\n",
       "    </tr>\n",
       "    <tr>\n",
       "      <th>5</th>\n",
       "      <td>104</td>\n",
       "      <td>올림픽 다가오는데 도쿄 코로나 확산 빨라져...일주일새 25％↑</td>\n",
       "    </tr>\n",
       "  </tbody>\n",
       "</table>\n",
       "</div>"
      ],
      "text/plain": [
       "   category                                title\n",
       "4       104    \"코로나 확진자 '0명'인 날은 절대 오지 않는다\" 美전문가\n",
       "5       104  올림픽 다가오는데 도쿄 코로나 확산 빨라져...일주일새 25％↑"
      ]
     },
     "execution_count": 42,
     "metadata": {},
     "output_type": "execute_result"
    }
   ],
   "source": [
    "covid = pd.read_excel(\"covid.xlsx\")[[\"category\", \"title\"]]\n",
    "covid.tail(2)"
   ]
  },
  {
   "cell_type": "code",
   "execution_count": 43,
   "id": "ef231cee",
   "metadata": {},
   "outputs": [
    {
     "data": {
      "text/plain": [
       "0      SK바이오사이언스, 코로나19 백신 임상 3상 시험계획 제출\n",
       "1               고양시 노래연습장 코로나19 누적확진 41명\n",
       "2          코로나19 신규 감염, 28일 오후 9시까지 542명\n",
       "3              프로야구 수도권 구단서 코로나19 확진자 발생\n",
       "4      \"코로나 확진자 '0명'인 날은 절대 오지 않는다\" 美전문가\n",
       "5    올림픽 다가오는데 도쿄 코로나 확산 빨라져...일주일새 25％↑\n",
       "Name: title, dtype: object"
      ]
     },
     "execution_count": 43,
     "metadata": {},
     "output_type": "execute_result"
    }
   ],
   "source": [
    "covid[\"title\"]"
   ]
  },
  {
   "cell_type": "code",
   "execution_count": 50,
   "id": "482189cb",
   "metadata": {},
   "outputs": [
    {
     "name": "stdout",
     "output_type": "stream",
     "text": [
      "Wall time: 424 ms\n"
     ]
    }
   ],
   "source": [
    "%%time\n",
    "covid_en = covid[\"title\"].apply(translate)"
   ]
  },
  {
   "cell_type": "code",
   "execution_count": 45,
   "id": "1c9e62a5",
   "metadata": {},
   "outputs": [
    {
     "data": {
      "text/plain": [
       "0    SK Bioscience Submits Phase III Clinical Trial...\n",
       "1    41 cumulative COVID-19 confirmed patients at G...\n",
       "2    New COVID-19 infections, 542 people by 9 p.m. ...\n",
       "3    Covid-19 confirmed cases in professional baseb...\n",
       "4    \"The day when there are zero confirmed cases o...\n",
       "5    As the Olympics are approaching, the spread of...\n",
       "Name: title, dtype: object"
      ]
     },
     "execution_count": 45,
     "metadata": {},
     "output_type": "execute_result"
    }
   ],
   "source": [
    "covid_en"
   ]
  },
  {
   "cell_type": "code",
   "execution_count": 46,
   "id": "248e7f4e",
   "metadata": {},
   "outputs": [
    {
     "data": {
      "text/html": [
       "<div>\n",
       "<style scoped>\n",
       "    .dataframe tbody tr th:only-of-type {\n",
       "        vertical-align: middle;\n",
       "    }\n",
       "\n",
       "    .dataframe tbody tr th {\n",
       "        vertical-align: top;\n",
       "    }\n",
       "\n",
       "    .dataframe thead th {\n",
       "        text-align: right;\n",
       "    }\n",
       "</style>\n",
       "<table border=\"1\" class=\"dataframe\">\n",
       "  <thead>\n",
       "    <tr style=\"text-align: right;\">\n",
       "      <th></th>\n",
       "      <th>category</th>\n",
       "      <th>title</th>\n",
       "      <th>title_en</th>\n",
       "    </tr>\n",
       "  </thead>\n",
       "  <tbody>\n",
       "    <tr>\n",
       "      <th>0</th>\n",
       "      <td>101</td>\n",
       "      <td>SK바이오사이언스, 코로나19 백신 임상 3상 시험계획 제출</td>\n",
       "      <td>SK Bioscience Submits Phase III Clinical Trial...</td>\n",
       "    </tr>\n",
       "    <tr>\n",
       "      <th>1</th>\n",
       "      <td>102</td>\n",
       "      <td>고양시 노래연습장 코로나19 누적확진 41명</td>\n",
       "      <td>41 cumulative COVID-19 confirmed patients at G...</td>\n",
       "    </tr>\n",
       "    <tr>\n",
       "      <th>2</th>\n",
       "      <td>103</td>\n",
       "      <td>코로나19 신규 감염, 28일 오후 9시까지 542명</td>\n",
       "      <td>New COVID-19 infections, 542 people by 9 p.m. ...</td>\n",
       "    </tr>\n",
       "    <tr>\n",
       "      <th>3</th>\n",
       "      <td>103</td>\n",
       "      <td>프로야구 수도권 구단서 코로나19 확진자 발생</td>\n",
       "      <td>Covid-19 confirmed cases in professional baseb...</td>\n",
       "    </tr>\n",
       "    <tr>\n",
       "      <th>4</th>\n",
       "      <td>104</td>\n",
       "      <td>\"코로나 확진자 '0명'인 날은 절대 오지 않는다\" 美전문가</td>\n",
       "      <td>\"The day when there are zero confirmed cases o...</td>\n",
       "    </tr>\n",
       "    <tr>\n",
       "      <th>5</th>\n",
       "      <td>104</td>\n",
       "      <td>올림픽 다가오는데 도쿄 코로나 확산 빨라져...일주일새 25％↑</td>\n",
       "      <td>As the Olympics are approaching, the spread of...</td>\n",
       "    </tr>\n",
       "  </tbody>\n",
       "</table>\n",
       "</div>"
      ],
      "text/plain": [
       "   category                                title  \\\n",
       "0       101    SK바이오사이언스, 코로나19 백신 임상 3상 시험계획 제출   \n",
       "1       102             고양시 노래연습장 코로나19 누적확진 41명   \n",
       "2       103        코로나19 신규 감염, 28일 오후 9시까지 542명   \n",
       "3       103            프로야구 수도권 구단서 코로나19 확진자 발생   \n",
       "4       104    \"코로나 확진자 '0명'인 날은 절대 오지 않는다\" 美전문가   \n",
       "5       104  올림픽 다가오는데 도쿄 코로나 확산 빨라져...일주일새 25％↑   \n",
       "\n",
       "                                            title_en  \n",
       "0  SK Bioscience Submits Phase III Clinical Trial...  \n",
       "1  41 cumulative COVID-19 confirmed patients at G...  \n",
       "2  New COVID-19 infections, 542 people by 9 p.m. ...  \n",
       "3  Covid-19 confirmed cases in professional baseb...  \n",
       "4  \"The day when there are zero confirmed cases o...  \n",
       "5  As the Olympics are approaching, the spread of...  "
      ]
     },
     "execution_count": 46,
     "metadata": {},
     "output_type": "execute_result"
    }
   ],
   "source": [
    "covid[\"title_en\"] = covid_en\n",
    "covid"
   ]
  },
  {
   "cell_type": "code",
   "execution_count": 51,
   "id": "5e5330cf",
   "metadata": {},
   "outputs": [],
   "source": [
    "# utf-8-sig : excel 에서 사용하는 인코딩 방식과 호환이 되는 utf-8 인코딩 방식\n",
    "covid.to_excel(\"covid_en.xlsx\", index=False, encoding=\"utf-8-sig\")"
   ]
  },
  {
   "cell_type": "code",
   "execution_count": 48,
   "id": "81cc4ef6",
   "metadata": {},
   "outputs": [
    {
     "name": "stdout",
     "output_type": "stream",
     "text": [
      " C 드라이브의 볼륨: 로컬 디스크\n",
      " 볼륨 일련 번호: 8A64-4954\n",
      "\n",
      " C:\\Users\\User\\Desktop\\python_crawling\\day1\\code 디렉터리\n",
      "\n",
      "2022-08-03  오후 04:52    <DIR>          .\n",
      "2022-08-03  오후 04:52    <DIR>          ..\n",
      "2022-08-03  오후 03:41    <DIR>          .ipynb_checkpoints\n",
      "2022-08-03  오후 03:40            32,787 01_requests_json.ipynb\n",
      "2022-08-03  오후 04:50            12,253 02_requests_api.ipynb\n",
      "2022-08-03  오후 04:47            10,060 covid.xlsx\n",
      "2022-08-03  오후 04:52             6,132 covid_en.xlsx\n",
      "               4개 파일              61,232 바이트\n",
      "               3개 디렉터리  378,880,700,416 바이트 남음\n"
     ]
    }
   ],
   "source": [
    "%ls"
   ]
  },
  {
   "cell_type": "code",
   "execution_count": 54,
   "id": "bce3feb2",
   "metadata": {},
   "outputs": [],
   "source": [
    "# 함수 : Scope\n",
    "# 변수를 선언할때 함수 밖에서 선언하는것과 함수 안에서 선언하는 변수의 메모리 저장공간이 다릅니다.\n",
    "# 전역(global)영역 : 함수 밖의 영역\n",
    "# 지역(local)영역 : 함수 안의 영역\n",
    "# global : 지역영역에서 전역영역에 있는 변수를 가져올때 사용하는 명령어"
   ]
  },
  {
   "cell_type": "code",
   "execution_count": 55,
   "id": "100bf1fb",
   "metadata": {},
   "outputs": [
    {
     "name": "stdout",
     "output_type": "stream",
     "text": [
      "20\n"
     ]
    }
   ],
   "source": [
    "data = 10\n",
    "\n",
    "def change():\n",
    "    global data # 전역영역에 있는 data를 지역영역으로 가져옴\n",
    "    data = 20\n",
    "    \n",
    "change()\n",
    "print(data)"
   ]
  },
  {
   "cell_type": "code",
   "execution_count": 56,
   "id": "40951783",
   "metadata": {},
   "outputs": [],
   "source": [
    "# 실습 과제\n",
    "# https://finance.daum.net/exchanges\n",
    "# headers : referer, user-agent 설정"
   ]
  },
  {
   "cell_type": "code",
   "execution_count": null,
   "id": "0d4cbe63",
   "metadata": {},
   "outputs": [],
   "source": []
  },
  {
   "cell_type": "code",
   "execution_count": null,
   "id": "163a1801",
   "metadata": {},
   "outputs": [],
   "source": []
  },
  {
   "cell_type": "code",
   "execution_count": null,
   "id": "d127dda9",
   "metadata": {},
   "outputs": [],
   "source": []
  },
  {
   "cell_type": "code",
   "execution_count": null,
   "id": "c88538e1",
   "metadata": {},
   "outputs": [],
   "source": []
  },
  {
   "cell_type": "code",
   "execution_count": null,
   "id": "7eae21ec",
   "metadata": {},
   "outputs": [],
   "source": []
  },
  {
   "cell_type": "code",
   "execution_count": null,
   "id": "812d23af",
   "metadata": {},
   "outputs": [],
   "source": []
  },
  {
   "cell_type": "code",
   "execution_count": null,
   "id": "4e4709d2",
   "metadata": {},
   "outputs": [],
   "source": []
  },
  {
   "cell_type": "code",
   "execution_count": null,
   "id": "b3897295",
   "metadata": {},
   "outputs": [],
   "source": []
  },
  {
   "cell_type": "code",
   "execution_count": null,
   "id": "d8441fd6",
   "metadata": {},
   "outputs": [],
   "source": []
  },
  {
   "cell_type": "code",
   "execution_count": null,
   "id": "00bc98f0",
   "metadata": {},
   "outputs": [],
   "source": []
  },
  {
   "cell_type": "code",
   "execution_count": null,
   "id": "3212ba1b",
   "metadata": {},
   "outputs": [],
   "source": []
  },
  {
   "cell_type": "code",
   "execution_count": null,
   "id": "ab102b50",
   "metadata": {},
   "outputs": [],
   "source": []
  }
 ],
 "metadata": {
  "kernelspec": {
   "display_name": "Python 3",
   "language": "python",
   "name": "python3"
  },
  "language_info": {
   "codemirror_mode": {
    "name": "ipython",
    "version": 3
   },
   "file_extension": ".py",
   "mimetype": "text/x-python",
   "name": "python",
   "nbconvert_exporter": "python",
   "pygments_lexer": "ipython3",
   "version": "3.8.8"
  }
 },
 "nbformat": 4,
 "nbformat_minor": 5
}
