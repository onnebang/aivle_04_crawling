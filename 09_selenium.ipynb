{
 "cells": [
  {
   "cell_type": "markdown",
   "id": "44f90da3-daea-4738-967f-ab370232d2f6",
   "metadata": {},
   "source": [
    "### selenium\n",
    "    브라우저의 자동화 목적으로 만들어진 다양한 브라우져와 언어를 지원하는 라이브러리\n",
    "    브라우저를 파이썬 코드로 컨트롤 해서 브라우저에 있는 데이터를 수집"
   ]
  },
  {
   "cell_type": "markdown",
   "id": "a40b4fba-cadf-4158-8c63-313693f1cf3e",
   "metadata": {},
   "source": [
    "### 크롤링 방법\n",
    "    requests : json :웹페이지의 API 트래픽을 분석해서 데이터 수집 : naver stock\n",
    "    requests : json : 공식적으로 제공하는 API를 application key 받아서 데이터 수집 : naver api(papago, trend)\n",
    "    requests : html, BeatufulSoup(css selector) : 웹페이지의 html 코드 받아서 데이터 수집 : gmarket\n",
    "    selenium : browser - python : 브라우져를 파이썬 코드로 컨트롤 해서 데이터 수집 : ted\n",
    "    크롤링할때 좋은 순서 : 2 > 1 > 3 > 4"
   ]
  },
  {
   "cell_type": "markdown",
   "id": "abb43889-37ef-4684-93c5-ec7772e9581a",
   "metadata": {},
   "source": [
    "### 환경설정\n",
    "    크롬 브라우져 설치\n",
    "    크롬 브라우져 드라이버 다운로드 : 크롬 브라우져와 같은 버전 : 크롬브라우져와 파이썬코드 연결\n",
    "    selenium 패키지 설치\n",
    "    opt. : 크롬 브라우져의 드라이버 파일을 환경변수로 등록하면 조금 쉽게 사용"
   ]
  },
  {
   "cell_type": "code",
   "execution_count": 1,
   "id": "84ab0e65-765d-4186-b271-ac8172170d1e",
   "metadata": {},
   "outputs": [
    {
     "name": "stdout",
     "output_type": "stream",
     "text": [
      "Collecting selenium\n",
      "  Downloading selenium-4.3.0-py3-none-any.whl (981 kB)\n",
      "Requirement already satisfied: urllib3[secure,socks]~=1.26 in c:\\users\\user\\anaconda3\\lib\\site-packages (from selenium) (1.26.4)\n",
      "Collecting trio-websocket~=0.9\n",
      "  Downloading trio_websocket-0.9.2-py3-none-any.whl (16 kB)\n",
      "Collecting trio~=0.17\n",
      "  Downloading trio-0.21.0-py3-none-any.whl (358 kB)\n",
      "Requirement already satisfied: cffi>=1.14 in c:\\users\\user\\anaconda3\\lib\\site-packages (from trio~=0.17->selenium) (1.14.5)\n",
      "Requirement already satisfied: async-generator>=1.9 in c:\\users\\user\\anaconda3\\lib\\site-packages (from trio~=0.17->selenium) (1.10)\n",
      "Requirement already satisfied: idna in c:\\users\\user\\anaconda3\\lib\\site-packages (from trio~=0.17->selenium) (2.10)\n",
      "Requirement already satisfied: sniffio in c:\\users\\user\\anaconda3\\lib\\site-packages (from trio~=0.17->selenium) (1.2.0)\n",
      "Collecting outcome\n",
      "  Downloading outcome-1.2.0-py2.py3-none-any.whl (9.7 kB)\n",
      "Requirement already satisfied: sortedcontainers in c:\\users\\user\\anaconda3\\lib\\site-packages (from trio~=0.17->selenium) (2.3.0)\n",
      "Requirement already satisfied: attrs>=19.2.0 in c:\\users\\user\\anaconda3\\lib\\site-packages (from trio~=0.17->selenium) (20.3.0)\n",
      "Requirement already satisfied: pycparser in c:\\users\\user\\anaconda3\\lib\\site-packages (from cffi>=1.14->trio~=0.17->selenium) (2.20)\n",
      "Collecting wsproto>=0.14\n",
      "  Downloading wsproto-1.1.0-py3-none-any.whl (24 kB)\n",
      "Requirement already satisfied: PySocks!=1.5.7,<2.0,>=1.5.6 in c:\\users\\user\\anaconda3\\lib\\site-packages (from urllib3[secure,socks]~=1.26->selenium) (1.7.1)\n",
      "Requirement already satisfied: cryptography>=1.3.4 in c:\\users\\user\\anaconda3\\lib\\site-packages (from urllib3[secure,socks]~=1.26->selenium) (3.4.7)\n",
      "Requirement already satisfied: pyOpenSSL>=0.14 in c:\\users\\user\\anaconda3\\lib\\site-packages (from urllib3[secure,socks]~=1.26->selenium) (20.0.1)\n",
      "Requirement already satisfied: certifi in c:\\users\\user\\anaconda3\\lib\\site-packages (from urllib3[secure,socks]~=1.26->selenium) (2020.12.5)\n",
      "Requirement already satisfied: six>=1.5.2 in c:\\users\\user\\anaconda3\\lib\\site-packages (from pyOpenSSL>=0.14->urllib3[secure,socks]~=1.26->selenium) (1.15.0)\n",
      "Collecting h11<1,>=0.9.0\n",
      "  Downloading h11-0.13.0-py3-none-any.whl (58 kB)\n",
      "Installing collected packages: outcome, h11, wsproto, trio, trio-websocket, selenium\n",
      "Successfully installed h11-0.13.0 outcome-1.2.0 selenium-4.3.0 trio-0.21.0 trio-websocket-0.9.2 wsproto-1.1.0\n"
     ]
    }
   ],
   "source": [
    "!pip install selenium"
   ]
  },
  {
   "cell_type": "code",
   "execution_count": 34,
   "id": "b6eaa9cd-f077-463c-beba-1c4b340ba7ea",
   "metadata": {},
   "outputs": [],
   "source": [
    "from selenium import webdriver\n",
    "from selenium.webdriver.common.by import By"
   ]
  },
  {
   "cell_type": "code",
   "execution_count": 35,
   "id": "dd76c234-064c-433f-b4fa-322baef87e76",
   "metadata": {},
   "outputs": [],
   "source": [
    "# 1.브라우저 띄우기\n",
    "driver = webdriver.Chrome()"
   ]
  },
  {
   "cell_type": "code",
   "execution_count": 36,
   "id": "e0fa9ad2-0206-447f-8976-e70105e6af18",
   "metadata": {},
   "outputs": [],
   "source": [
    "# 2.페이지 이동\n",
    "driver.get(\"https://naver.com\")"
   ]
  },
  {
   "cell_type": "code",
   "execution_count": 37,
   "id": "742066e4-2541-4ec6-a9cf-4396706a84b3",
   "metadata": {},
   "outputs": [],
   "source": [
    "# 3. 브라우저 사이즈 조절\n",
    "# driver.set_window_size(500,500)"
   ]
  },
  {
   "cell_type": "code",
   "execution_count": 38,
   "id": "5d349ee2-5e87-49c8-a186-23d9413f556e",
   "metadata": {},
   "outputs": [],
   "source": [
    "# 4. 브라우저 스크롤 조절\n",
    "driver.execute_script(\"window.scrollTo(200,300)\")"
   ]
  },
  {
   "cell_type": "code",
   "execution_count": 39,
   "id": "3a1c9da5-7965-4718-9ee6-a198e21a0afc",
   "metadata": {},
   "outputs": [],
   "source": [
    "# 5. alert 다루기\n",
    "driver.execute_script(\"alert('gello selenium!')\")\n",
    "alert = driver.switch_to.alert\n",
    "alert.accept()"
   ]
  },
  {
   "cell_type": "code",
   "execution_count": 40,
   "id": "50f6c42d-ed41-4830-a971-a5d54000b562",
   "metadata": {},
   "outputs": [],
   "source": [
    "# 6.키워드 입력\n",
    "driver.find_element(By.CSS_SELECTOR, \"#query\").send_keys(\"파이썬\")"
   ]
  },
  {
   "cell_type": "code",
   "execution_count": 42,
   "id": "00aa4a0c-4208-461f-ae40-0f5f69f3f4b5",
   "metadata": {},
   "outputs": [],
   "source": [
    "# 7. 검색버튼 클릭\n",
    "driver.find_element(By.CSS_SELECTOR, \"#search_btn\").click()"
   ]
  },
  {
   "cell_type": "code",
   "execution_count": 43,
   "id": "e9a881fc-f3dc-415f-8af8-c1ea1c1bf21e",
   "metadata": {},
   "outputs": [],
   "source": [
    "# 8. 브라우저 종료\n",
    "driver.quit()"
   ]
  }
 ],
 "metadata": {
  "kernelspec": {
   "display_name": "Python 3",
   "language": "python",
   "name": "python3"
  },
  "language_info": {
   "codemirror_mode": {
    "name": "ipython",
    "version": 3
   },
   "file_extension": ".py",
   "mimetype": "text/x-python",
   "name": "python",
   "nbconvert_exporter": "python",
   "pygments_lexer": "ipython3",
   "version": "3.8.8"
  }
 },
 "nbformat": 4,
 "nbformat_minor": 5
}
