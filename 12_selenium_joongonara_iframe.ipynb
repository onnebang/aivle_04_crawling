{
 "cells": [
  {
   "cell_type": "markdown",
   "id": "6f246af5-afc8-4cd2-994f-3ba703695590",
   "metadata": {},
   "source": [
    "#### 네이버 중고나라 게시글 데이터 수집\n",
    "- selenium에서 iframe에 있는 데이터 수집\n",
    "- https://cafe.naver.com/joonggonara.cafe"
   ]
  },
  {
   "cell_type": "code",
   "execution_count": null,
   "id": "3c0043bf-de36-4764-8d0e-36d926fd53ec",
   "metadata": {},
   "outputs": [],
   "source": []
  },
  {
   "cell_type": "code",
   "execution_count": 1,
   "id": "5b0a1b6b-97c7-4802-94c2-46d802c36787",
   "metadata": {},
   "outputs": [],
   "source": [
    "from selenium import webdriver\n",
    "from selenium.webdriver.common.by import By"
   ]
  },
  {
   "cell_type": "code",
   "execution_count": 3,
   "id": "b8032a84-21b9-4966-9d98-502e7591045b",
   "metadata": {},
   "outputs": [],
   "source": [
    "url = \"https://cafe.naver.com/joonggonara.cafe\""
   ]
  },
  {
   "cell_type": "code",
   "execution_count": 4,
   "id": "b58b5617-35fc-480b-8c1f-3b6b1cd985ec",
   "metadata": {},
   "outputs": [],
   "source": [
    "# 1. 웹브라우저 열기 및 페이지 이동"
   ]
  },
  {
   "cell_type": "code",
   "execution_count": 5,
   "id": "49ce595f-ac1d-48cd-84bd-7cb76585cf57",
   "metadata": {},
   "outputs": [],
   "source": [
    "driver = webdriver.Chrome()\n",
    "driver.get(url)"
   ]
  },
  {
   "cell_type": "code",
   "execution_count": 7,
   "id": "a562617a-34e2-4f8c-9cd2-ae3f07be4712",
   "metadata": {},
   "outputs": [],
   "source": [
    "# 2. 검색창에 \"맥북\"입력하고 검색 버튼 클릭"
   ]
  },
  {
   "cell_type": "code",
   "execution_count": 9,
   "id": "25508369-9f7f-49d2-a3c9-e57881dfb33a",
   "metadata": {},
   "outputs": [],
   "source": [
    "keyword = \"맥북\" \n",
    "driver.find_element(By.CSS_SELECTOR, \"#topLayerQueryInput\").send_keys(keyword)"
   ]
  },
  {
   "cell_type": "code",
   "execution_count": 10,
   "id": "04e0f7a2-a876-4ea6-805c-4a36592ba59c",
   "metadata": {},
   "outputs": [],
   "source": [
    "driver.execute_script(\"searchBoard()\")"
   ]
  },
  {
   "cell_type": "code",
   "execution_count": 11,
   "id": "c8d8d791-47d0-4ff3-af64-3d00ea2bfc60",
   "metadata": {},
   "outputs": [],
   "source": [
    "# 3. 게시글 목록 데이터 수집 : iframe"
   ]
  },
  {
   "cell_type": "code",
   "execution_count": 13,
   "id": "64ae2269-36b6-4d92-b4fe-3191b7cc3fe1",
   "metadata": {},
   "outputs": [
    {
     "data": {
      "text/plain": [
       "0"
      ]
     },
     "execution_count": 13,
     "metadata": {},
     "output_type": "execute_result"
    }
   ],
   "source": [
    "seletor = \".article-board> table> tbody> tr\"\n",
    "elements = driver.find_elements(By.CSS_SELECTOR, seletor)\n",
    "len(elements)\n",
    "# iframe안에 table이 있어서 조회가 되지 않음"
   ]
  },
  {
   "cell_type": "code",
   "execution_count": 15,
   "id": "31d81075-2053-4c5c-abdf-d348cac37703",
   "metadata": {},
   "outputs": [
    {
     "data": {
      "text/plain": [
       "15"
      ]
     },
     "execution_count": 15,
     "metadata": {},
     "output_type": "execute_result"
    }
   ],
   "source": [
    "# 해결\n",
    "\n",
    "# iframe 으로 driver 이동\n",
    "iframe = driver.find_element(By.CSS_SELECTOR, \"#cafe_main\")\n",
    "iframe\n",
    "\n",
    "driver.switch_to.frame(iframe)\n",
    "selector = \".article-board > table > tbody > tr\"\n",
    "elements = driver.find_elements(By.CSS_SELECTOR, selector)\n",
    "len(elements)"
   ]
  },
  {
   "cell_type": "code",
   "execution_count": null,
   "id": "4af3d62b-efaf-4ce0-8d4e-ee374260208d",
   "metadata": {},
   "outputs": [],
   "source": [
    "# 4. 웹 브라우저 종료"
   ]
  },
  {
   "cell_type": "code",
   "execution_count": null,
   "id": "ec7c6601-4272-4d50-9ed1-f76056a85d1b",
   "metadata": {},
   "outputs": [],
   "source": []
  },
  {
   "cell_type": "code",
   "execution_count": null,
   "id": "243ff5fa-c7fe-4a13-ba3b-037c7f18d725",
   "metadata": {},
   "outputs": [],
   "source": []
  },
  {
   "cell_type": "code",
   "execution_count": null,
   "id": "802543a5-25df-484d-814f-42405d83091b",
   "metadata": {},
   "outputs": [],
   "source": []
  }
 ],
 "metadata": {
  "kernelspec": {
   "display_name": "Python 3",
   "language": "python",
   "name": "python3"
  },
  "language_info": {
   "codemirror_mode": {
    "name": "ipython",
    "version": 3
   },
   "file_extension": ".py",
   "mimetype": "text/x-python",
   "name": "python",
   "nbconvert_exporter": "python",
   "pygments_lexer": "ipython3",
   "version": "3.8.8"
  }
 },
 "nbformat": 4,
 "nbformat_minor": 5
}
