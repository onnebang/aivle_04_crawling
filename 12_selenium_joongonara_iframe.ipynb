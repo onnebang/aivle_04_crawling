{
 "cells": [
  {
   "cell_type": "markdown",
   "id": "6f246af5-afc8-4cd2-994f-3ba703695590",
   "metadata": {},
   "source": [
    "#### 네이버 중고나라 게시글 데이터 수집\n",
    "- selenium에서 iframe에 있는 데이터 수집\n",
    "- https://cafe.naver.com/joonggonara.cafe"
   ]
  },
  {
   "cell_type": "code",
   "execution_count": 32,
   "id": "5b0a1b6b-97c7-4802-94c2-46d802c36787",
   "metadata": {},
   "outputs": [],
   "source": [
    "from selenium import webdriver\n",
    "from selenium.webdriver.common.by import By"
   ]
  },
  {
   "cell_type": "code",
   "execution_count": 33,
   "id": "b8032a84-21b9-4966-9d98-502e7591045b",
   "metadata": {},
   "outputs": [],
   "source": [
    "url = \"https://cafe.naver.com/joonggonara.cafe\""
   ]
  },
  {
   "cell_type": "code",
   "execution_count": 34,
   "id": "b58b5617-35fc-480b-8c1f-3b6b1cd985ec",
   "metadata": {},
   "outputs": [],
   "source": [
    "# 1. 웹브라우저 열기 및 페이지 이동"
   ]
  },
  {
   "cell_type": "code",
   "execution_count": 35,
   "id": "49ce595f-ac1d-48cd-84bd-7cb76585cf57",
   "metadata": {},
   "outputs": [],
   "source": [
    "driver = webdriver.Chrome()\n",
    "driver.get(url)"
   ]
  },
  {
   "cell_type": "code",
   "execution_count": 36,
   "id": "a562617a-34e2-4f8c-9cd2-ae3f07be4712",
   "metadata": {},
   "outputs": [],
   "source": [
    "# 2. 검색창에 \"맥북\"입력하고 검색 버튼 클릭"
   ]
  },
  {
   "cell_type": "code",
   "execution_count": 37,
   "id": "25508369-9f7f-49d2-a3c9-e57881dfb33a",
   "metadata": {},
   "outputs": [],
   "source": [
    "keyword = \"맥북\" \n",
    "driver.find_element(By.CSS_SELECTOR, \"#topLayerQueryInput\").send_keys(keyword)"
   ]
  },
  {
   "cell_type": "code",
   "execution_count": 38,
   "id": "04e0f7a2-a876-4ea6-805c-4a36592ba59c",
   "metadata": {},
   "outputs": [],
   "source": [
    "driver.execute_script(\"searchBoard()\")"
   ]
  },
  {
   "cell_type": "code",
   "execution_count": 39,
   "id": "c8d8d791-47d0-4ff3-af64-3d00ea2bfc60",
   "metadata": {},
   "outputs": [],
   "source": [
    "# 3. 게시글 목록 데이터 수집 : iframe"
   ]
  },
  {
   "cell_type": "code",
   "execution_count": 40,
   "id": "64ae2269-36b6-4d92-b4fe-3191b7cc3fe1",
   "metadata": {},
   "outputs": [
    {
     "data": {
      "text/plain": [
       "0"
      ]
     },
     "execution_count": 40,
     "metadata": {},
     "output_type": "execute_result"
    }
   ],
   "source": [
    "seletor = \".article-board> table> tbody> tr\"\n",
    "elements = driver.find_elements(By.CSS_SELECTOR, seletor)\n",
    "len(elements)\n",
    "# iframe안에 table이 있어서 조회가 되지 않음"
   ]
  },
  {
   "cell_type": "code",
   "execution_count": 41,
   "id": "31d81075-2053-4c5c-abdf-d348cac37703",
   "metadata": {},
   "outputs": [
    {
     "data": {
      "text/plain": [
       "15"
      ]
     },
     "execution_count": 41,
     "metadata": {},
     "output_type": "execute_result"
    }
   ],
   "source": [
    "# 해결\n",
    "\n",
    "# iframe 으로 driver 이동\n",
    "iframe = driver.find_element(By.CSS_SELECTOR, \"#cafe_main\")\n",
    "iframe\n",
    "\n",
    "driver.switch_to.frame(iframe)\n",
    "selector = \".article-board > table > tbody > tr\"\n",
    "elements = driver.find_elements(By.CSS_SELECTOR, selector)\n",
    "len(elements)"
   ]
  },
  {
   "cell_type": "code",
   "execution_count": 42,
   "id": "54123ef3-9a49-41e4-8151-ff6e5bc0a6d3",
   "metadata": {},
   "outputs": [
    {
     "data": {
      "text/plain": [
       "('미개봉/새제품- 맥북 프로 16인치 max cto 모델 판매 합니다.', 'SSOOOOOZ')"
      ]
     },
     "execution_count": 42,
     "metadata": {},
     "output_type": "execute_result"
    }
   ],
   "source": [
    "element = elements[0]\n",
    "title = element.find_element(By.CSS_SELECTOR, \".article\").text\n",
    "writer = element.find_element(By.CSS_SELECTOR, \".p-nick\").text\n",
    "title, writer"
   ]
  },
  {
   "cell_type": "code",
   "execution_count": 43,
   "id": "19b88a68-fafe-4faf-88c2-875ef5a50c1a",
   "metadata": {},
   "outputs": [
    {
     "data": {
      "text/html": [
       "<div>\n",
       "<style scoped>\n",
       "    .dataframe tbody tr th:only-of-type {\n",
       "        vertical-align: middle;\n",
       "    }\n",
       "\n",
       "    .dataframe tbody tr th {\n",
       "        vertical-align: top;\n",
       "    }\n",
       "\n",
       "    .dataframe thead th {\n",
       "        text-align: right;\n",
       "    }\n",
       "</style>\n",
       "<table border=\"1\" class=\"dataframe\">\n",
       "  <thead>\n",
       "    <tr style=\"text-align: right;\">\n",
       "      <th></th>\n",
       "      <th>title</th>\n",
       "      <th>writer</th>\n",
       "    </tr>\n",
       "  </thead>\n",
       "  <tbody>\n",
       "    <tr>\n",
       "      <th>13</th>\n",
       "      <td>[매입]방송출연 전국 노트북 맥북 게이밍 아이맥 등 매입 삽니다</td>\n",
       "      <td>전자마켓</td>\n",
       "    </tr>\n",
       "    <tr>\n",
       "      <th>14</th>\n",
       "      <td>14인치 M1PRO M1MAX 엠원프로 엠원맥스 맥북프로 애플노트북</td>\n",
       "      <td>topontopcom</td>\n",
       "    </tr>\n",
       "  </tbody>\n",
       "</table>\n",
       "</div>"
      ],
      "text/plain": [
       "                                    title       writer\n",
       "13    [매입]방송출연 전국 노트북 맥북 게이밍 아이맥 등 매입 삽니다         전자마켓\n",
       "14  14인치 M1PRO M1MAX 엠원프로 엠원맥스 맥북프로 애플노트북  topontopcom"
      ]
     },
     "execution_count": 43,
     "metadata": {},
     "output_type": "execute_result"
    }
   ],
   "source": [
    "data = []\n",
    "for element in elements:\n",
    "    data.append({\n",
    "        \"title\": element.find_element(By.CSS_SELECTOR, \".article\").text,\n",
    "        \"writer\": element.find_element(By.CSS_SELECTOR, \".p-nick\").text,\n",
    "    })\n",
    "df = pd.DataFrame(data)\n",
    "df.tail(2)"
   ]
  },
  {
   "cell_type": "code",
   "execution_count": 44,
   "id": "50858385-ebb4-4387-bfcf-0436be52ea3e",
   "metadata": {},
   "outputs": [],
   "source": [
    "# 원래 default frame 으로 이동\n",
    "driver.switch_to.default_content()"
   ]
  },
  {
   "cell_type": "code",
   "execution_count": 45,
   "id": "4af3d62b-efaf-4ce0-8d4e-ee374260208d",
   "metadata": {},
   "outputs": [],
   "source": [
    "# 4. 웹 브라우저 종료\n",
    "driver.quit()"
   ]
  }
 ],
 "metadata": {
  "kernelspec": {
   "display_name": "Python 3",
   "language": "python",
   "name": "python3"
  },
  "language_info": {
   "codemirror_mode": {
    "name": "ipython",
    "version": 3
   },
   "file_extension": ".py",
   "mimetype": "text/x-python",
   "name": "python",
   "nbconvert_exporter": "python",
   "pygments_lexer": "ipython3",
   "version": "3.8.8"
  }
 },
 "nbformat": 4,
 "nbformat_minor": 5
}
