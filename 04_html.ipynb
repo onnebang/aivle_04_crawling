{
 "cells": [
  {
   "cell_type": "markdown",
   "id": "42a17980-b57c-4493-989d-2e54ec6c76e6",
   "metadata": {},
   "source": [
    "### HTML\n",
    "    -웹문서를 작성하는 언어\n",
    "    - 구성요소\n",
    "        - document : 한페이지를 나타내는 코드\n",
    "        - element : 하나의 레이아웃 : element가 모여 document를 만듦\n",
    "        -tag : element의 종류를 정의 : 시작태그 + 끝태그 = element\n",
    "        -attribute : 속성값 : 시작태그에서 태그의 기능 정의\n",
    "        - id : element 를 지정하는 페이지 내에서 유일한 값\n",
    "        - class : element를 지정하는 값으로 페이지 내에서 여러개 사용 가능\n",
    "        - attr : id, class를 제외한 나머지 속성값\n",
    "        - text : 시작태그와 끝태그 사이의 문자열\n",
    "\n",
    "    엘리먼트는 계층적 구조르 가짐"
   ]
  },
  {
   "cell_type": "code",
   "execution_count": 1,
   "id": "b257393e-bf88-4909-830d-571b934ad2b6",
   "metadata": {},
   "outputs": [
    {
     "data": {
      "text/html": [
       "<div class = \"wrapper\">\n",
       "    <button id=\"b1\" class=\"btn no1\" value =\"1\">HTML 1</button>\n",
       "    <button id=\"b2\" class=\"btn no2\" value =\"2\">HTML 2</button>\n",
       "</div>\n"
      ],
      "text/plain": [
       "<IPython.core.display.HTML object>"
      ]
     },
     "metadata": {},
     "output_type": "display_data"
    }
   ],
   "source": [
    "%%html\n",
    "<div class = \"wrapper\">\n",
    "    <button id=\"b1\" class=\"btn no1\" value =\"1\">HTML 1</button>\n",
    "    <button id=\"b2\" class=\"btn no2\" value =\"2\">HTML 2</button>\n",
    "</div>\n"
   ]
  },
  {
   "cell_type": "markdown",
   "id": "72ee802b-ab5d-4865-81c8-c120655e36cd",
   "metadata": {},
   "source": [
    "### HTML 태그 종류 \n"
   ]
  },
  {
   "cell_type": "markdown",
   "id": "b82a0ea9-14a0-4081-b8ba-6ba917a548b3",
   "metadata": {},
   "source": [
    "# p : 한줄의 문자열 출력"
   ]
  },
  {
   "cell_type": "code",
   "execution_count": 33,
   "id": "a38c7a01-ba38-4f32-a7c1-8779dbc2157e",
   "metadata": {},
   "outputs": [
    {
     "data": {
      "text/html": [
       "\n",
       "<p> python 1 </p> \n",
       "<p> python 2 </p> \n"
      ],
      "text/plain": [
       "<IPython.core.display.HTML object>"
      ]
     },
     "metadata": {},
     "output_type": "display_data"
    }
   ],
   "source": [
    "%%html\n",
    "\n",
    "<p> python 1 </p> \n",
    "<p> python 2 </p> "
   ]
  },
  {
   "cell_type": "markdown",
   "id": "964e6948-2b3f-45aa-9790-a03d971f255e",
   "metadata": {},
   "source": [
    "# span: 한블럭의 문자열"
   ]
  },
  {
   "cell_type": "code",
   "execution_count": 34,
   "id": "6109419c-3fba-4176-8a56-be914ba96cf0",
   "metadata": {},
   "outputs": [
    {
     "data": {
      "text/html": [
       "\n",
       "<span> python 1 </span> \n",
       "<span> python 2 </span> \n"
      ],
      "text/plain": [
       "<IPython.core.display.HTML object>"
      ]
     },
     "metadata": {},
     "output_type": "display_data"
    }
   ],
   "source": [
    "%%html\n",
    "\n",
    "<span> python 1 </span> \n",
    "<span> python 2 </span> "
   ]
  },
  {
   "cell_type": "markdown",
   "id": "d2d19b87-f4d0-488c-a906-b710614c57e3",
   "metadata": {},
   "source": [
    "# ul, li : 리스트 문자열 출력"
   ]
  },
  {
   "cell_type": "code",
   "execution_count": 35,
   "id": "6007a800-45b5-4aed-9628-e8ef565bc836",
   "metadata": {},
   "outputs": [
    {
     "data": {
      "text/html": [
       "\n",
       "<ul> \n",
       "    <li> python 1  </li> \n",
       "    <li> python 2 </li> \n",
       "</ul>     \n"
      ],
      "text/plain": [
       "<IPython.core.display.HTML object>"
      ]
     },
     "metadata": {},
     "output_type": "display_data"
    }
   ],
   "source": [
    "%%html\n",
    "\n",
    "<ul> \n",
    "    <li> python 1  </li> \n",
    "    <li> python 2 </li> \n",
    "</ul>     "
   ]
  },
  {
   "cell_type": "markdown",
   "id": "b7743b4b-bde8-4a9f-a23b-00fafe70db04",
   "metadata": {},
   "source": [
    "# a : 링크를 나타내는 태그 "
   ]
  },
  {
   "cell_type": "code",
   "execution_count": 36,
   "id": "261fcaac-125e-4373-b7b3-c598571484e1",
   "metadata": {},
   "outputs": [
    {
     "data": {
      "text/html": [
       "<a href=\"https://www.naver.com\", target='_blink'> click </a>\n"
      ],
      "text/plain": [
       "<IPython.core.display.HTML object>"
      ]
     },
     "metadata": {},
     "output_type": "display_data"
    }
   ],
   "source": [
    "%%html\n",
    "<a href=\"https://www.naver.com\", target='_blink'> click </a>"
   ]
  },
  {
   "cell_type": "markdown",
   "id": "5bf7b117-6429-457f-a6a1-b2aba9148293",
   "metadata": {},
   "source": [
    "# img : 이미지 출력"
   ]
  },
  {
   "cell_type": "code",
   "execution_count": 37,
   "id": "40f503f0-be9a-4ace-a9e3-b3f44f676f7e",
   "metadata": {},
   "outputs": [
    {
     "data": {
      "text/html": [
       "<image src=\"https://ssl.pstatic.net/melona/libs/1405/1405347/66e1e760a50c29fbf5cd_20220803141257183.jpg\"></image>\n"
      ],
      "text/plain": [
       "<IPython.core.display.HTML object>"
      ]
     },
     "metadata": {},
     "output_type": "display_data"
    }
   ],
   "source": [
    "%%html\n",
    "<image src=\"https://ssl.pstatic.net/melona/libs/1405/1405347/66e1e760a50c29fbf5cd_20220803141257183.jpg\"></image>"
   ]
  },
  {
   "cell_type": "markdown",
   "id": "b866902d-d3b1-45d2-aece-7a5c281017aa",
   "metadata": {},
   "source": [
    "# iframe : 외부 url 링크에 해당하는 웹 페이지 출력"
   ]
  },
  {
   "cell_type": "code",
   "execution_count": 40,
   "id": "73bea9d5-cb94-4a48-8052-2ffc3d64dad2",
   "metadata": {},
   "outputs": [
    {
     "data": {
      "text/html": [
       "<iframe src=\"https://www.kt.com/\", witdh = 100%></iframe>\n"
      ],
      "text/plain": [
       "<IPython.core.display.HTML object>"
      ]
     },
     "metadata": {},
     "output_type": "display_data"
    }
   ],
   "source": [
    "%%html\n",
    "<iframe src=\"https://www.kt.com/\", witdh = 100%, ></iframe>"
   ]
  },
  {
   "cell_type": "markdown",
   "id": "ce329429-8306-4f67-9f79-8cb03c509d78",
   "metadata": {},
   "source": [
    "# div :레이아웃을 나타내는 태그"
   ]
  },
  {
   "cell_type": "code",
   "execution_count": 41,
   "id": "f50e5393-ed3c-4537-9a94-e060c887e1cb",
   "metadata": {},
   "outputs": [
    {
     "data": {
      "text/html": [
       "<div>\n",
       "    <p> 1 </p>\n",
       "    <p> 2 </p>\n",
       "</div>\n",
       "<div>\n",
       "    <p> 3 </p>\n",
       "    <p> 4 </p>\n",
       "</div>\n"
      ],
      "text/plain": [
       "<IPython.core.display.HTML object>"
      ]
     },
     "metadata": {},
     "output_type": "display_data"
    }
   ],
   "source": [
    "%%html\n",
    "<div>\n",
    "    <p> 1 </p>\n",
    "    <p> 2 </p>\n",
    "</div>\n",
    "<div>\n",
    "    <p> 3 </p>\n",
    "    <p> 4 </p>\n",
    "</div>"
   ]
  },
  {
   "cell_type": "markdown",
   "id": "6cd8c17e-ac7d-4519-aae6-a75e2f4659c2",
   "metadata": {},
   "source": [
    "# table : 행과 열로되어있는 데이터 출력"
   ]
  },
  {
   "cell_type": "code",
   "execution_count": 46,
   "id": "b466551b-14e8-412e-83b8-38df06e1e289",
   "metadata": {},
   "outputs": [
    {
     "data": {
      "text/html": [
       "<table>\n",
       "    <caption> 제목 </caption>\n",
       "    <thead>\n",
       "        <tr>\n",
       "            <th>data 1</th>\n",
       "            <th>data 2</th>\n",
       "        </tr>\n",
       "    </thead>\n",
       "    <tbody>\n",
       "        <tr>\n",
       "            <th> 33</th>\n",
       "            <th>44 </th>\n",
       "        </tr>\n",
       "                <tr>\n",
       "            <th> 55</th>\n",
       "            <th>66 </th>\n",
       "        </tr>\n",
       "    </tbody>\n",
       "</table>\n"
      ],
      "text/plain": [
       "<IPython.core.display.HTML object>"
      ]
     },
     "metadata": {},
     "output_type": "display_data"
    }
   ],
   "source": [
    "%%html\n",
    "<table>\n",
    "    <caption> 제목 </caption>\n",
    "    <thead>\n",
    "        <tr>\n",
    "            <th>data 1</th>\n",
    "            <th>data 2</th>\n",
    "        </tr>\n",
    "    </thead>\n",
    "    <tbody>\n",
    "        <tr>\n",
    "            <th> 33</th>\n",
    "            <th>44 </th>\n",
    "        </tr>\n",
    "        <tr>\n",
    "            <th> 55</th>\n",
    "            <th>66 </th>\n",
    "        </tr>\n",
    "    </tbody>\n",
    "</table>"
   ]
  }
 ],
 "metadata": {
  "kernelspec": {
   "display_name": "Python 3",
   "language": "python",
   "name": "python3"
  },
  "language_info": {
   "codemirror_mode": {
    "name": "ipython",
    "version": 3
   },
   "file_extension": ".py",
   "mimetype": "text/x-python",
   "name": "python",
   "nbconvert_exporter": "python",
   "pygments_lexer": "ipython3",
   "version": "3.8.8"
  }
 },
 "nbformat": 4,
 "nbformat_minor": 5
}
