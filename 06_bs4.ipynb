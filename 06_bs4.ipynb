{
 "cells": [
  {
   "cell_type": "markdown",
   "id": "44a09bc7-ab7c-4bfc-9002-b4d099beeb11",
   "metadata": {},
   "source": [
    "### 정적페이지 데이터 수집\n",
    "    네이버연관 검색어 수집\n",
    "    bs4 - beautifulSoup : Html(str) > css seletor\n",
    "    "
   ]
  },
  {
   "cell_type": "code",
   "execution_count": 3,
   "id": "4c553c34-a1cf-492e-89b5-0fff441fb3ce",
   "metadata": {},
   "outputs": [],
   "source": [
    "import pandas as pd\n",
    "import requests\n",
    "from bs4 import BeautifulSoup"
   ]
  },
  {
   "cell_type": "markdown",
   "id": "02a76807-1c7c-4500-9fc0-b3a450025274",
   "metadata": {},
   "source": [
    "### 1. 웹 서비스 분석 : URL"
   ]
  },
  {
   "cell_type": "code",
   "execution_count": 4,
   "id": "49935f63-38b7-4288-817a-b451f0893c12",
   "metadata": {},
   "outputs": [],
   "source": [
    "keyword = \"kt\"\n",
    "url = f\"https://search.naver.com/search.naver?sm=tab_hty.top&where=nexearch&query={keyword}&oquery=css&tqi=hXWxOwp0JXVsslPZGD8ssssstsw-214210\""
   ]
  },
  {
   "cell_type": "markdown",
   "id": "64c5a905-4f3a-4d29-9dbb-89208ed0244a",
   "metadata": {},
   "source": [
    "### 2. request(url) > response(html) : HTML(str)\n"
   ]
  },
  {
   "cell_type": "code",
   "execution_count": 7,
   "id": "2c9810ac-0579-4490-adc0-fa39d51ee810",
   "metadata": {},
   "outputs": [
    {
     "data": {
      "text/plain": [
       "<Response [200]>"
      ]
     },
     "execution_count": 7,
     "metadata": {},
     "output_type": "execute_result"
    }
   ],
   "source": [
    "response = requests.get(url)\n",
    "response"
   ]
  },
  {
   "cell_type": "code",
   "execution_count": 17,
   "id": "8a985460-dab1-4848-90bc-1f8395e94b2d",
   "metadata": {},
   "outputs": [
    {
     "data": {
      "text/plain": [
       "'<!doctype html> <html lang=\"ko\"> <head> <meta charset=\"utf-8\"> <meta name=\"referrer\" content=\"always\">  <meta name=\"format-detection\" content=\"telephone=no,address=no,email=no\"> <meta name=\"viewport\" content=\"width=device-width,initial-scale=1.0,maximum-scale=2.0\"> <meta property=\"og:title\" content=\"kt : 네이버 통합검색\"/> <meta property=\"og:image\" content=\"https://ssl.pstatic.net/sstatic/search/common/og_v3.png\"> <meta property=\"og:description\" content=\"\\'kt\\'의 네이버 통합검색 결과입니다.\"> <meta name=\"description\"'"
      ]
     },
     "execution_count": 17,
     "metadata": {},
     "output_type": "execute_result"
    }
   ],
   "source": [
    "response.text[:500]"
   ]
  },
  {
   "cell_type": "markdown",
   "id": "390aa3f5-97cf-4caa-822b-7fe06b9a1c8d",
   "metadata": {},
   "source": [
    "### 3. HTML(str) > BeatifulSoup Object > BS(CSS Selector) > Data\n"
   ]
  },
  {
   "cell_type": "code",
   "execution_count": 18,
   "id": "0f475d05-d64f-4c67-99be-fee545b314d4",
   "metadata": {},
   "outputs": [
    {
     "data": {
      "text/plain": [
       "bs4.BeautifulSoup"
      ]
     },
     "execution_count": 18,
     "metadata": {},
     "output_type": "execute_result"
    }
   ],
   "source": [
    "dom = BeautifulSoup(response.text, \"html.parser\")\n",
    "type(dom)"
   ]
  },
  {
   "cell_type": "code",
   "execution_count": 22,
   "id": "833dbf38-d817-4e71-9b98-935ac90f7601",
   "metadata": {},
   "outputs": [
    {
     "data": {
      "text/plain": [
       "10"
      ]
     },
     "execution_count": 22,
     "metadata": {},
     "output_type": "execute_result"
    }
   ],
   "source": [
    "#select() : 엘리먼트 여러개 선택\n",
    "#select_one() : 엘리먼트 한개 선택\n",
    "elements = dom.select(\".lst_related_srch > .item\")\n",
    "len(elements)"
   ]
  },
  {
   "cell_type": "code",
   "execution_count": 23,
   "id": "73a54163-9679-44dd-8cce-b68d4fb2154d",
   "metadata": {},
   "outputs": [
    {
     "data": {
      "text/plain": [
       "<li class=\"item\"> <a class=\"keyword\" href=\"?where=nexearch&amp;query=%EC%82%BC%EC%84%B1%EC%A0%84%EC%9E%90&amp;ie=utf8&amp;sm=tab_she&amp;qdt=0\" onclick=\"return goOtherCR(this, 'a=rsk_btm*q.list1&amp;r=1&amp;u=' + urlencode(this.href))\"> <div class=\"tit\">삼성전자</div> </a> </li>"
      ]
     },
     "execution_count": 23,
     "metadata": {},
     "output_type": "execute_result"
    }
   ],
   "source": [
    "elements[0]"
   ]
  },
  {
   "cell_type": "code",
   "execution_count": 28,
   "id": "5b60afe1-5365-43dd-8e76-904471b48adc",
   "metadata": {},
   "outputs": [
    {
     "name": "stdout",
     "output_type": "stream",
     "text": [
      "['삼성전자', 'kt 고객센터', 'kt 인터넷', 'ky', '환율', 'kr', '날씨', 'kt 대리점', 'SKT', 'kt 고객센터 전화번호']\n"
     ]
    }
   ],
   "source": [
    "keywords = []\n",
    "for element in elements:\n",
    "    keyword = element.select_one(\".tit\").text\n",
    "    keywords.append(keyword)\n",
    "print(keywords)"
   ]
  },
  {
   "cell_type": "markdown",
   "id": "130db486-b725-407a-af5a-5dc50be4f31c",
   "metadata": {},
   "source": [
    "### 4.Data > DataFrame"
   ]
  },
  {
   "cell_type": "code",
   "execution_count": null,
   "id": "21718bc4-0619-4aba-8ea1-d83aa9331847",
   "metadata": {},
   "outputs": [],
   "source": []
  },
  {
   "cell_type": "code",
   "execution_count": null,
   "id": "d839805e-1ac8-410e-a54d-8dbad63028cb",
   "metadata": {},
   "outputs": [],
   "source": []
  }
 ],
 "metadata": {
  "kernelspec": {
   "display_name": "Python 3",
   "language": "python",
   "name": "python3"
  },
  "language_info": {
   "codemirror_mode": {
    "name": "ipython",
    "version": 3
   },
   "file_extension": ".py",
   "mimetype": "text/x-python",
   "name": "python",
   "nbconvert_exporter": "python",
   "pygments_lexer": "ipython3",
   "version": "3.8.8"
  }
 },
 "nbformat": 4,
 "nbformat_minor": 5
}
