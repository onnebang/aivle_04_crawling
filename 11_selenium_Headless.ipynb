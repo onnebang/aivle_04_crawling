{
 "cells": [
  {
   "cell_type": "markdown",
   "id": "846aabb2-304d-46b5-9fa6-49b456f19b01",
   "metadata": {},
   "source": [
    "#### Headless\n",
    "- 브라우져를 화면에 띄우지 않고 메모리 상에서만 브라우져를 실행하여 크롤링하는 방법\n",
    "- window가 지원되지 않는 환경에서 selenium 사용 가능\n",
    "- 크롬 버전 : 60 이상부터 지원"
   ]
  },
  {
   "cell_type": "code",
   "execution_count": 6,
   "id": "db3ccec5-a0f4-42c2-ba9a-32deba19fa86",
   "metadata": {},
   "outputs": [
    {
     "data": {
      "text/plain": [
       "'103.0.5060.134'"
      ]
     },
     "execution_count": 6,
     "metadata": {},
     "output_type": "execute_result"
    }
   ],
   "source": [
    "from selenium import webdriver\n",
    "from selenium.webdriver.common.by import By\n",
    "# 크롬 버전 확인\n",
    "driver = webdriver.Chrome()\n",
    "version = driver.capabilities[\"browserVersion\"]\n",
    "driver.quit()\n",
    "version"
   ]
  },
  {
   "cell_type": "code",
   "execution_count": 9,
   "id": "0f33bc9d-a595-4635-a874-053b729e727e",
   "metadata": {},
   "outputs": [
    {
     "data": {
      "text/plain": [
       "'Join TED Recommends to get the best ideas, selected just for you'"
      ]
     },
     "execution_count": 9,
     "metadata": {},
     "output_type": "execute_result"
    }
   ],
   "source": [
    "options = webdriver.ChromeOptions()\n",
    "options.add_argument(\"headless\")\n",
    "\n",
    "# 1. 브라우저 열기\n",
    "driver = webdriver.Chrome(options = options)\n",
    "\n",
    "# 2. 페이지 이동\n",
    "driver.get(\"https://ted.com/talks\")\n",
    "\n",
    "# 3. 제목 데이터 텍스트 수집\n",
    "sub_title = driver.find_element(By.CSS_SELECTOR, \"#banner-secondary\").text\n",
    "driver.quit()\n",
    "sub_title"
   ]
  }
 ],
 "metadata": {
  "kernelspec": {
   "display_name": "Python 3",
   "language": "python",
   "name": "python3"
  },
  "language_info": {
   "codemirror_mode": {
    "name": "ipython",
    "version": 3
   },
   "file_extension": ".py",
   "mimetype": "text/x-python",
   "name": "python",
   "nbconvert_exporter": "python",
   "pygments_lexer": "ipython3",
   "version": "3.8.8"
  }
 },
 "nbformat": 4,
 "nbformat_minor": 5
}
