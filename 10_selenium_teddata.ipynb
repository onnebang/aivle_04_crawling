{
 "cells": [
  {
   "cell_type": "markdown",
   "id": "9ad9b25d-d662-4aa7-860b-bba61ce13e18",
   "metadata": {},
   "source": [
    "### 텍스트 데이터 수집\n",
    "    ted : https://ted.com/talks"
   ]
  },
  {
   "cell_type": "code",
   "execution_count": 7,
   "id": "8682c28f-ae85-4133-92ad-3495049ec5c0",
   "metadata": {},
   "outputs": [],
   "source": [
    "from selenium import webdriver\n",
    "from selenium.webdriver.common.by import By"
   ]
  },
  {
   "cell_type": "code",
   "execution_count": 8,
   "id": "915e95ea-ab2d-4c6b-b1f8-d0bcd154277c",
   "metadata": {},
   "outputs": [
    {
     "data": {
      "text/plain": [
       "'Join TED Recommends to get the best ideas, selected just for you'"
      ]
     },
     "execution_count": 8,
     "metadata": {},
     "output_type": "execute_result"
    }
   ],
   "source": [
    "# 1. 브라우저 열기\n",
    "driver = webdriver.Chrome()\n",
    "\n",
    "# 2. 페이지 이동\n",
    "driver.get(\"https://ted.com/talks\")\n",
    "\n",
    "# 3. 제목 데이터 텍스트 수집\n",
    "sub_title = driver.find_element(By.CSS_SELECTOR, \"#banner-secondary\").text\n",
    "sub_title"
   ]
  },
  {
   "cell_type": "code",
   "execution_count": 12,
   "id": "b00d8106-b248-4b46-bec8-66e6577a18ee",
   "metadata": {},
   "outputs": [],
   "source": [
    "# 4. selsct box에서 한국어 메뉴 클릭\n",
    "driver.find_element(By.CSS_SELECTOR,'#languages [lang=\"ko\"]').click()"
   ]
  },
  {
   "cell_type": "code",
   "execution_count": 13,
   "id": "d7847066-213d-4f53-94d4-0338e71a51f9",
   "metadata": {},
   "outputs": [
    {
     "data": {
      "text/plain": [
       "36"
      ]
     },
     "execution_count": 13,
     "metadata": {},
     "output_type": "execute_result"
    }
   ],
   "source": [
    "# 5. 전체 데이터의 제목과 링크 데이터 수집\n",
    "elements = driver.find_elements(By.CSS_SELECTOR, \"#browse-results >.row >div\")\n",
    "len(elements)"
   ]
  },
  {
   "cell_type": "code",
   "execution_count": 21,
   "id": "bd6a3ba2-7eee-485c-98a2-c3076b921169",
   "metadata": {},
   "outputs": [
    {
     "data": {
      "text/plain": [
       "('스페인어의 역사 - 일란 스타반스(Ilan Stavans)',\n",
       " 'https://www.ted.com/talks/ilan_stavans_a_brief_history_of_spanish?language=ko')"
      ]
     },
     "execution_count": 21,
     "metadata": {},
     "output_type": "execute_result"
    }
   ],
   "source": [
    "element = elements[0]\n",
    "title = element.find_element(By.CSS_SELECTOR, \".h9 > .ga-link\").text\n",
    "link = element.find_element(By.CSS_SELECTOR, \".h9 > .ga-link\").get_attribute(\"href\")\n",
    "title, link"
   ]
  },
  {
   "cell_type": "code",
   "execution_count": 22,
   "id": "69fafd8a-e8ad-4627-8b4a-afa6c78ddb44",
   "metadata": {},
   "outputs": [
    {
     "data": {
      "text/html": [
       "<div>\n",
       "<style scoped>\n",
       "    .dataframe tbody tr th:only-of-type {\n",
       "        vertical-align: middle;\n",
       "    }\n",
       "\n",
       "    .dataframe tbody tr th {\n",
       "        vertical-align: top;\n",
       "    }\n",
       "\n",
       "    .dataframe thead th {\n",
       "        text-align: right;\n",
       "    }\n",
       "</style>\n",
       "<table border=\"1\" class=\"dataframe\">\n",
       "  <thead>\n",
       "    <tr style=\"text-align: right;\">\n",
       "      <th></th>\n",
       "      <th>title</th>\n",
       "      <th>link</th>\n",
       "    </tr>\n",
       "  </thead>\n",
       "  <tbody>\n",
       "    <tr>\n",
       "      <th>34</th>\n",
       "      <td>두려움을 극복하기 위한 올림픽 챔피언의 사고방식</td>\n",
       "      <td>https://www.ted.com/talks/allyson_felix_an_oly...</td>\n",
       "    </tr>\n",
       "    <tr>\n",
       "      <th>35</th>\n",
       "      <td>바퀴벌레를 없애는 것은 왜 이렇게 어려울까요? - 아메야 곤달레카르</td>\n",
       "      <td>https://www.ted.com/talks/ameya_gondhalekar_wh...</td>\n",
       "    </tr>\n",
       "  </tbody>\n",
       "</table>\n",
       "</div>"
      ],
      "text/plain": [
       "                                    title  \\\n",
       "34             두려움을 극복하기 위한 올림픽 챔피언의 사고방식   \n",
       "35  바퀴벌레를 없애는 것은 왜 이렇게 어려울까요? - 아메야 곤달레카르   \n",
       "\n",
       "                                                 link  \n",
       "34  https://www.ted.com/talks/allyson_felix_an_oly...  \n",
       "35  https://www.ted.com/talks/ameya_gondhalekar_wh...  "
      ]
     },
     "execution_count": 22,
     "metadata": {},
     "output_type": "execute_result"
    }
   ],
   "source": [
    "# 6.데이터 프레임으로 만들기\n",
    "data = []\n",
    "for element in elements:\n",
    "    data.append({\n",
    "        \"title\": element.find_element(By.CSS_SELECTOR, \"h4 > .ga-link\").text,\n",
    "        \"link\": element.find_element(By.CSS_SELECTOR, \"h4 > .ga-link\").get_attribute(\"href\"),\n",
    "    })\n",
    "df = pd.DataFrame(data)\n",
    "df.tail(2)"
   ]
  }
 ],
 "metadata": {
  "kernelspec": {
   "display_name": "Python 3",
   "language": "python",
   "name": "python3"
  },
  "language_info": {
   "codemirror_mode": {
    "name": "ipython",
    "version": 3
   },
   "file_extension": ".py",
   "mimetype": "text/x-python",
   "name": "python",
   "nbconvert_exporter": "python",
   "pygments_lexer": "ipython3",
   "version": "3.8.8"
  }
 },
 "nbformat": 4,
 "nbformat_minor": 5
}
