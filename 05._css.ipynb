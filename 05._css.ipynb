{
 "cells": [
  {
   "cell_type": "markdown",
   "id": "e71ed515-862a-45f0-9908-89bc9a190714",
   "metadata": {},
   "source": [
    "### Css selector\n",
    "      css를 적용시킬 element를 선택하는 방법"
   ]
  },
  {
   "cell_type": "markdown",
   "id": "4a81d675-e4bc-4441-b125-c6bd77680c52",
   "metadata": {
    "tags": []
   },
   "source": [
    "### 1. element tag 이름으로 선택"
   ]
  },
  {
   "cell_type": "code",
   "execution_count": 1,
   "id": "9d460eb8-ec80-4e99-b815-020e7c7bb4bc",
   "metadata": {},
   "outputs": [
    {
     "data": {
      "text/html": [
       "<div class =\"kt\">\n",
       "    <div>python</div>\n",
       "    <p>python2</p>\n",
       "    <span>python3</span>\n",
       "</div>\n"
      ],
      "text/plain": [
       "<IPython.core.display.HTML object>"
      ]
     },
     "metadata": {},
     "output_type": "display_data"
    }
   ],
   "source": [
    "%%html\n",
    "<div id =\"kt\">\n",
    "    <div>python</div>\n",
    "    <p>python2</p>\n",
    "    <span>python3</span>\n",
    "</div>"
   ]
  },
  {
   "cell_type": "markdown",
   "id": "3940733a-3ffa-4c06-9db2-3efed9b855f4",
   "metadata": {},
   "source": [
    "### 2. tag의 id 값으로 선택\n"
   ]
  },
  {
   "cell_type": "code",
   "execution_count": 2,
   "id": "a7df9e1b-4444-43b9-9fbe-ac48647a266c",
   "metadata": {},
   "outputs": [
    {
     "data": {
      "text/html": [
       "<div class =\"kt\">\n",
       "    <p id =\"1\">python</p>\n",
       "    <p id =\"2\">python2</p>\n",
       "    <p id =\"3\">python3</p>\n",
       "</div>\n"
      ],
      "text/plain": [
       "<IPython.core.display.HTML object>"
      ]
     },
     "metadata": {},
     "output_type": "display_data"
    }
   ],
   "source": [
    "%%html\n",
    "<div class =\"kt\">\n",
    "    <p id =\"1\">python</p>\n",
    "    <p id =\"2\">python2</p>\n",
    "    <p id =\"3\">python3</p>\n",
    "</div>"
   ]
  },
  {
   "cell_type": "markdown",
   "id": "222dcaaf-f383-4089-b3b9-152f3c66775a",
   "metadata": {},
   "source": [
    "### 3. tag의 class 값으로 선택"
   ]
  },
  {
   "cell_type": "code",
   "execution_count": 3,
   "id": "16515650-9c81-41c4-beaf-e3f9e80121d7",
   "metadata": {},
   "outputs": [
    {
     "data": {
      "text/html": [
       "    <p class =\"1 kt1\">python</p>\n",
       "    <p class =\"2 kt2\">python2</p>\n",
       "    <p class =\"3 kt3\">python3</p>\n"
      ],
      "text/plain": [
       "<IPython.core.display.HTML object>"
      ]
     },
     "metadata": {},
     "output_type": "display_data"
    }
   ],
   "source": [
    "%%html\n",
    "    <p class =\"1 kt1\">python</p>\n",
    "    <p class =\"2 kt2\">python2</p>\n",
    "    <p class =\"3 kt3\">python3</p>"
   ]
  },
  {
   "cell_type": "markdown",
   "id": "f6374334-648f-4ed1-8c52-5b8d522ec38d",
   "metadata": {},
   "source": [
    "### 4. tag의 attr 값으로 선택"
   ]
  },
  {
   "cell_type": "code",
   "execution_count": 4,
   "id": "aea6ee36-bb80-4c44-b24f-d4ea856040d4",
   "metadata": {},
   "outputs": [
    {
     "data": {
      "text/html": [
       "    <p value =\"no1\">python</p>\n",
       "    <p value =\"no2\">python2</p>\n",
       "    <p value =\"no3\">python3</p>\n"
      ],
      "text/plain": [
       "<IPython.core.display.HTML object>"
      ]
     },
     "metadata": {},
     "output_type": "display_data"
    }
   ],
   "source": [
    "%%html\n",
    "    <p value =\"no1\">python</p>\n",
    "    <p value =\"no2\">python2</p>\n",
    "    <p value =\"no3\">python3</p>"
   ]
  },
  {
   "cell_type": "markdown",
   "id": "6ddc2136-8ea8-4601-9105-94d98fdd228f",
   "metadata": {},
   "source": [
    "    tag 이름 : span\n",
    "    id : #{id}\n",
    "    class : .{class}\n",
    "    attr : [value=\"attr\"]"
   ]
  },
  {
   "cell_type": "markdown",
   "id": "c0155d46-03cf-42cf-8893-92ac02bd0059",
   "metadata": {},
   "source": [
    "### 5. 여러개의 엘리먼트 선택\n",
    "### not selector"
   ]
  },
  {
   "cell_type": "code",
   "execution_count": null,
   "id": "a1a4c838-5c51-4f81-b079-8082954a7dc8",
   "metadata": {},
   "outputs": [],
   "source": [
    "#css selector : .no:not(no2) : python 1, python 2"
   ]
  },
  {
   "cell_type": "code",
   "execution_count": 7,
   "id": "c1e1e20f-60f4-4e32-b1d3-9a11f1714eb3",
   "metadata": {},
   "outputs": [
    {
     "data": {
      "text/html": [
       "    <p class =\"no no1\">python</p>\n",
       "    <p class =\"no no2\">python2</p>\n",
       "    <p class =\"no no3\">python3</p>\n"
      ],
      "text/plain": [
       "<IPython.core.display.HTML object>"
      ]
     },
     "metadata": {},
     "output_type": "display_data"
    }
   ],
   "source": [
    "%%html\n",
    "    <p class =\"no no1\">python</p>\n",
    "    <p class =\"no no2\">python2</p>\n",
    "    <p class =\"no no3\">python3</p>"
   ]
  },
  {
   "cell_type": "markdown",
   "id": "720f8451-6d78-4203-843d-f7b0c1169176",
   "metadata": {},
   "source": [
    "### 6. n번쨰 엘리먼트 선택\n",
    "    css selector : .py:nth-child(2) : python 2 선택"
   ]
  },
  {
   "cell_type": "code",
   "execution_count": 9,
   "id": "c8ab50a8-44f2-4dfe-8e15-f9fe5c694fa9",
   "metadata": {},
   "outputs": [
    {
     "data": {
      "text/html": [
       "    <p class =\"py\">python</p>\n",
       "    <p class =\"py\">python2</p>\n",
       "    <p class =\"py\">python3</p>\n"
      ],
      "text/plain": [
       "<IPython.core.display.HTML object>"
      ]
     },
     "metadata": {},
     "output_type": "display_data"
    }
   ],
   "source": [
    "%%html\n",
    "    <p class =\"py\">python</p>\n",
    "    <p class =\"py\">python2</p>\n",
    "    <p class =\"py\">python3</p>"
   ]
  },
  {
   "cell_type": "code",
   "execution_count": null,
   "id": "1c130db0-0800-4c59-97a7-1668fc905544",
   "metadata": {},
   "outputs": [],
   "source": []
  }
 ],
 "metadata": {
  "kernelspec": {
   "display_name": "Python 3",
   "language": "python",
   "name": "python3"
  },
  "language_info": {
   "codemirror_mode": {
    "name": "ipython",
    "version": 3
   },
   "file_extension": ".py",
   "mimetype": "text/x-python",
   "name": "python",
   "nbconvert_exporter": "python",
   "pygments_lexer": "ipython3",
   "version": "3.8.8"
  }
 },
 "nbformat": 4,
 "nbformat_minor": 5
}
